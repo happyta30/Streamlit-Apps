{
 "cells": [
  {
   "cell_type": "markdown",
   "metadata": {
    "_cell_guid": "b1076dfc-b9ad-4769-8c92-a6c4dae69d19",
    "_uuid": "8f2839f25d086af736a60e9eeb907d3b93b6e0e5",
    "id": "A7LvNMFoqJoa"
   },
   "source": [
    "# Linear Regression Model for Predicting House Prices"
   ]
  },
  {
   "cell_type": "markdown",
   "metadata": {
    "id": "vZ3LJ18LiT-d"
   },
   "source": [
    "### Import Library"
   ]
  },
  {
   "cell_type": "code",
   "execution_count": 36,
   "metadata": {
    "id": "SbTIPVrKqJoh",
    "tags": []
   },
   "outputs": [],
   "source": [
    "import numpy as np \n",
    "import pandas as pd\n",
    "from math import sqrt\n",
    "import seaborn as sns\n",
    "from scipy.stats import skew\n",
    "import matplotlib.pyplot as plt\n",
    "from sklearn import linear_model\n",
    "from sklearn import preprocessing\n",
    "from sklearn.model_selection import train_test_split\n",
    "from sklearn.metrics import mean_absolute_error, mean_squared_error"
   ]
  },
  {
   "cell_type": "markdown",
   "metadata": {
    "id": "DlAtvK-KqJok"
   },
   "source": [
    "## Exploratory Data Analysis"
   ]
  },
  {
   "cell_type": "code",
   "execution_count": 37,
   "metadata": {
    "colab": {
     "base_uri": "https://localhost:8080/",
     "height": 299
    },
    "id": "kcQ8IdOvqJol",
    "outputId": "8777d364-6be3-4160-e30b-c7069b1fbbf3",
    "tags": []
   },
   "outputs": [
    {
     "data": {
      "text/html": [
       "<div>\n",
       "<style scoped>\n",
       "    .dataframe tbody tr th:only-of-type {\n",
       "        vertical-align: middle;\n",
       "    }\n",
       "\n",
       "    .dataframe tbody tr th {\n",
       "        vertical-align: top;\n",
       "    }\n",
       "\n",
       "    .dataframe thead th {\n",
       "        text-align: right;\n",
       "    }\n",
       "</style>\n",
       "<table border=\"1\" class=\"dataframe\">\n",
       "  <thead>\n",
       "    <tr style=\"text-align: right;\">\n",
       "      <th></th>\n",
       "      <th>Id</th>\n",
       "      <th>MSSubClass</th>\n",
       "      <th>MSZoning</th>\n",
       "      <th>LotFrontage</th>\n",
       "      <th>LotArea</th>\n",
       "      <th>Street</th>\n",
       "      <th>Alley</th>\n",
       "      <th>LotShape</th>\n",
       "      <th>LandContour</th>\n",
       "      <th>Utilities</th>\n",
       "      <th>...</th>\n",
       "      <th>PoolArea</th>\n",
       "      <th>PoolQC</th>\n",
       "      <th>Fence</th>\n",
       "      <th>MiscFeature</th>\n",
       "      <th>MiscVal</th>\n",
       "      <th>MoSold</th>\n",
       "      <th>YrSold</th>\n",
       "      <th>SaleType</th>\n",
       "      <th>SaleCondition</th>\n",
       "      <th>SalePrice</th>\n",
       "    </tr>\n",
       "  </thead>\n",
       "  <tbody>\n",
       "    <tr>\n",
       "      <th>0</th>\n",
       "      <td>1</td>\n",
       "      <td>60</td>\n",
       "      <td>RL</td>\n",
       "      <td>65.0</td>\n",
       "      <td>8450</td>\n",
       "      <td>Pave</td>\n",
       "      <td>NaN</td>\n",
       "      <td>Reg</td>\n",
       "      <td>Lvl</td>\n",
       "      <td>AllPub</td>\n",
       "      <td>...</td>\n",
       "      <td>0</td>\n",
       "      <td>NaN</td>\n",
       "      <td>NaN</td>\n",
       "      <td>NaN</td>\n",
       "      <td>0</td>\n",
       "      <td>2</td>\n",
       "      <td>2008</td>\n",
       "      <td>WD</td>\n",
       "      <td>Normal</td>\n",
       "      <td>208500</td>\n",
       "    </tr>\n",
       "    <tr>\n",
       "      <th>1</th>\n",
       "      <td>2</td>\n",
       "      <td>20</td>\n",
       "      <td>RL</td>\n",
       "      <td>80.0</td>\n",
       "      <td>9600</td>\n",
       "      <td>Pave</td>\n",
       "      <td>NaN</td>\n",
       "      <td>Reg</td>\n",
       "      <td>Lvl</td>\n",
       "      <td>AllPub</td>\n",
       "      <td>...</td>\n",
       "      <td>0</td>\n",
       "      <td>NaN</td>\n",
       "      <td>NaN</td>\n",
       "      <td>NaN</td>\n",
       "      <td>0</td>\n",
       "      <td>5</td>\n",
       "      <td>2007</td>\n",
       "      <td>WD</td>\n",
       "      <td>Normal</td>\n",
       "      <td>181500</td>\n",
       "    </tr>\n",
       "    <tr>\n",
       "      <th>2</th>\n",
       "      <td>3</td>\n",
       "      <td>60</td>\n",
       "      <td>RL</td>\n",
       "      <td>68.0</td>\n",
       "      <td>11250</td>\n",
       "      <td>Pave</td>\n",
       "      <td>NaN</td>\n",
       "      <td>IR1</td>\n",
       "      <td>Lvl</td>\n",
       "      <td>AllPub</td>\n",
       "      <td>...</td>\n",
       "      <td>0</td>\n",
       "      <td>NaN</td>\n",
       "      <td>NaN</td>\n",
       "      <td>NaN</td>\n",
       "      <td>0</td>\n",
       "      <td>9</td>\n",
       "      <td>2008</td>\n",
       "      <td>WD</td>\n",
       "      <td>Normal</td>\n",
       "      <td>223500</td>\n",
       "    </tr>\n",
       "    <tr>\n",
       "      <th>3</th>\n",
       "      <td>4</td>\n",
       "      <td>70</td>\n",
       "      <td>RL</td>\n",
       "      <td>60.0</td>\n",
       "      <td>9550</td>\n",
       "      <td>Pave</td>\n",
       "      <td>NaN</td>\n",
       "      <td>IR1</td>\n",
       "      <td>Lvl</td>\n",
       "      <td>AllPub</td>\n",
       "      <td>...</td>\n",
       "      <td>0</td>\n",
       "      <td>NaN</td>\n",
       "      <td>NaN</td>\n",
       "      <td>NaN</td>\n",
       "      <td>0</td>\n",
       "      <td>2</td>\n",
       "      <td>2006</td>\n",
       "      <td>WD</td>\n",
       "      <td>Abnorml</td>\n",
       "      <td>140000</td>\n",
       "    </tr>\n",
       "    <tr>\n",
       "      <th>4</th>\n",
       "      <td>5</td>\n",
       "      <td>60</td>\n",
       "      <td>RL</td>\n",
       "      <td>84.0</td>\n",
       "      <td>14260</td>\n",
       "      <td>Pave</td>\n",
       "      <td>NaN</td>\n",
       "      <td>IR1</td>\n",
       "      <td>Lvl</td>\n",
       "      <td>AllPub</td>\n",
       "      <td>...</td>\n",
       "      <td>0</td>\n",
       "      <td>NaN</td>\n",
       "      <td>NaN</td>\n",
       "      <td>NaN</td>\n",
       "      <td>0</td>\n",
       "      <td>12</td>\n",
       "      <td>2008</td>\n",
       "      <td>WD</td>\n",
       "      <td>Normal</td>\n",
       "      <td>250000</td>\n",
       "    </tr>\n",
       "  </tbody>\n",
       "</table>\n",
       "<p>5 rows × 81 columns</p>\n",
       "</div>"
      ],
      "text/plain": [
       "   Id  MSSubClass MSZoning  LotFrontage  LotArea Street Alley LotShape  \\\n",
       "0   1          60       RL         65.0     8450   Pave   NaN      Reg   \n",
       "1   2          20       RL         80.0     9600   Pave   NaN      Reg   \n",
       "2   3          60       RL         68.0    11250   Pave   NaN      IR1   \n",
       "3   4          70       RL         60.0     9550   Pave   NaN      IR1   \n",
       "4   5          60       RL         84.0    14260   Pave   NaN      IR1   \n",
       "\n",
       "  LandContour Utilities  ... PoolArea PoolQC Fence MiscFeature MiscVal MoSold  \\\n",
       "0         Lvl    AllPub  ...        0    NaN   NaN         NaN       0      2   \n",
       "1         Lvl    AllPub  ...        0    NaN   NaN         NaN       0      5   \n",
       "2         Lvl    AllPub  ...        0    NaN   NaN         NaN       0      9   \n",
       "3         Lvl    AllPub  ...        0    NaN   NaN         NaN       0      2   \n",
       "4         Lvl    AllPub  ...        0    NaN   NaN         NaN       0     12   \n",
       "\n",
       "  YrSold  SaleType  SaleCondition  SalePrice  \n",
       "0   2008        WD         Normal     208500  \n",
       "1   2007        WD         Normal     181500  \n",
       "2   2008        WD         Normal     223500  \n",
       "3   2006        WD        Abnorml     140000  \n",
       "4   2008        WD         Normal     250000  \n",
       "\n",
       "[5 rows x 81 columns]"
      ]
     },
     "execution_count": 37,
     "metadata": {},
     "output_type": "execute_result"
    }
   ],
   "source": [
    "# load the datasets into dataframe\n",
    "train = pd.read_csv('train.csv')\n",
    "train.head()"
   ]
  },
  {
   "cell_type": "code",
   "execution_count": 38,
   "metadata": {
    "colab": {
     "base_uri": "https://localhost:8080/"
    },
    "execution": {
     "iopub.execute_input": "2021-06-10T05:34:41.96912Z",
     "iopub.status.busy": "2021-06-10T05:34:41.968768Z",
     "iopub.status.idle": "2021-06-10T05:34:41.975942Z",
     "shell.execute_reply": "2021-06-10T05:34:41.975135Z",
     "shell.execute_reply.started": "2021-06-10T05:34:41.969089Z"
    },
    "id": "NoavbgnpqJom",
    "outputId": "63fef6d7-b512-4775-d1aa-8efde6250753"
   },
   "outputs": [
    {
     "name": "stdout",
     "output_type": "stream",
     "text": [
      "<class 'pandas.core.frame.DataFrame'>\n",
      "RangeIndex: 1460 entries, 0 to 1459\n",
      "Data columns (total 81 columns):\n",
      " #   Column         Non-Null Count  Dtype  \n",
      "---  ------         --------------  -----  \n",
      " 0   Id             1460 non-null   int64  \n",
      " 1   MSSubClass     1460 non-null   int64  \n",
      " 2   MSZoning       1460 non-null   object \n",
      " 3   LotFrontage    1201 non-null   float64\n",
      " 4   LotArea        1460 non-null   int64  \n",
      " 5   Street         1460 non-null   object \n",
      " 6   Alley          91 non-null     object \n",
      " 7   LotShape       1460 non-null   object \n",
      " 8   LandContour    1460 non-null   object \n",
      " 9   Utilities      1460 non-null   object \n",
      " 10  LotConfig      1460 non-null   object \n",
      " 11  LandSlope      1460 non-null   object \n",
      " 12  Neighborhood   1460 non-null   object \n",
      " 13  Condition1     1460 non-null   object \n",
      " 14  Condition2     1460 non-null   object \n",
      " 15  BldgType       1460 non-null   object \n",
      " 16  HouseStyle     1460 non-null   object \n",
      " 17  OverallQual    1460 non-null   int64  \n",
      " 18  OverallCond    1460 non-null   int64  \n",
      " 19  YearBuilt      1460 non-null   int64  \n",
      " 20  YearRemodAdd   1460 non-null   int64  \n",
      " 21  RoofStyle      1460 non-null   object \n",
      " 22  RoofMatl       1460 non-null   object \n",
      " 23  Exterior1st    1460 non-null   object \n",
      " 24  Exterior2nd    1460 non-null   object \n",
      " 25  MasVnrType     1452 non-null   object \n",
      " 26  MasVnrArea     1452 non-null   float64\n",
      " 27  ExterQual      1460 non-null   object \n",
      " 28  ExterCond      1460 non-null   object \n",
      " 29  Foundation     1460 non-null   object \n",
      " 30  BsmtQual       1423 non-null   object \n",
      " 31  BsmtCond       1423 non-null   object \n",
      " 32  BsmtExposure   1422 non-null   object \n",
      " 33  BsmtFinType1   1423 non-null   object \n",
      " 34  BsmtFinSF1     1460 non-null   int64  \n",
      " 35  BsmtFinType2   1422 non-null   object \n",
      " 36  BsmtFinSF2     1460 non-null   int64  \n",
      " 37  BsmtUnfSF      1460 non-null   int64  \n",
      " 38  TotalBsmtSF    1460 non-null   int64  \n",
      " 39  Heating        1460 non-null   object \n",
      " 40  HeatingQC      1460 non-null   object \n",
      " 41  CentralAir     1460 non-null   object \n",
      " 42  Electrical     1459 non-null   object \n",
      " 43  1stFlrSF       1460 non-null   int64  \n",
      " 44  2ndFlrSF       1460 non-null   int64  \n",
      " 45  LowQualFinSF   1460 non-null   int64  \n",
      " 46  GrLivArea      1460 non-null   int64  \n",
      " 47  BsmtFullBath   1460 non-null   int64  \n",
      " 48  BsmtHalfBath   1460 non-null   int64  \n",
      " 49  FullBath       1460 non-null   int64  \n",
      " 50  HalfBath       1460 non-null   int64  \n",
      " 51  BedroomAbvGr   1460 non-null   int64  \n",
      " 52  KitchenAbvGr   1460 non-null   int64  \n",
      " 53  KitchenQual    1460 non-null   object \n",
      " 54  TotRmsAbvGrd   1460 non-null   int64  \n",
      " 55  Functional     1460 non-null   object \n",
      " 56  Fireplaces     1460 non-null   int64  \n",
      " 57  FireplaceQu    770 non-null    object \n",
      " 58  GarageType     1379 non-null   object \n",
      " 59  GarageYrBlt    1379 non-null   float64\n",
      " 60  GarageFinish   1379 non-null   object \n",
      " 61  GarageCars     1460 non-null   int64  \n",
      " 62  GarageArea     1460 non-null   int64  \n",
      " 63  GarageQual     1379 non-null   object \n",
      " 64  GarageCond     1379 non-null   object \n",
      " 65  PavedDrive     1460 non-null   object \n",
      " 66  WoodDeckSF     1460 non-null   int64  \n",
      " 67  OpenPorchSF    1460 non-null   int64  \n",
      " 68  EnclosedPorch  1460 non-null   int64  \n",
      " 69  3SsnPorch      1460 non-null   int64  \n",
      " 70  ScreenPorch    1460 non-null   int64  \n",
      " 71  PoolArea       1460 non-null   int64  \n",
      " 72  PoolQC         7 non-null      object \n",
      " 73  Fence          281 non-null    object \n",
      " 74  MiscFeature    54 non-null     object \n",
      " 75  MiscVal        1460 non-null   int64  \n",
      " 76  MoSold         1460 non-null   int64  \n",
      " 77  YrSold         1460 non-null   int64  \n",
      " 78  SaleType       1460 non-null   object \n",
      " 79  SaleCondition  1460 non-null   object \n",
      " 80  SalePrice      1460 non-null   int64  \n",
      "dtypes: float64(3), int64(35), object(43)\n",
      "memory usage: 924.0+ KB\n"
     ]
    }
   ],
   "source": [
    "train.info()"
   ]
  },
  {
   "cell_type": "code",
   "execution_count": 39,
   "metadata": {
    "colab": {
     "base_uri": "https://localhost:8080/"
    },
    "execution": {
     "iopub.execute_input": "2021-06-10T05:34:42.915767Z",
     "iopub.status.busy": "2021-06-10T05:34:42.9154Z",
     "iopub.status.idle": "2021-06-10T05:34:42.931967Z",
     "shell.execute_reply": "2021-06-10T05:34:42.930863Z",
     "shell.execute_reply.started": "2021-06-10T05:34:42.915733Z"
    },
    "id": "D8tBjU5AqJoo",
    "outputId": "0119c7ef-40ae-4ff4-865d-abb8212f8963"
   },
   "outputs": [
    {
     "data": {
      "text/plain": [
       "count      1460.000000\n",
       "mean     180921.195890\n",
       "std       79442.502883\n",
       "min       34900.000000\n",
       "25%      129975.000000\n",
       "50%      163000.000000\n",
       "75%      214000.000000\n",
       "max      755000.000000\n",
       "Name: SalePrice, dtype: float64"
      ]
     },
     "execution_count": 39,
     "metadata": {},
     "output_type": "execute_result"
    }
   ],
   "source": [
    "train['SalePrice'].describe()"
   ]
  },
  {
   "cell_type": "code",
   "execution_count": 40,
   "metadata": {
    "colab": {
     "base_uri": "https://localhost:8080/"
    },
    "execution": {
     "iopub.execute_input": "2021-06-10T05:34:43.383393Z",
     "iopub.status.busy": "2021-06-10T05:34:43.38305Z",
     "iopub.status.idle": "2021-06-10T05:34:43.408324Z",
     "shell.execute_reply": "2021-06-10T05:34:43.407156Z",
     "shell.execute_reply.started": "2021-06-10T05:34:43.383363Z"
    },
    "id": "U_FOkHdTqJop",
    "outputId": "7561cc86-ead0-4a07-eb98-7adbb4df2bf9"
   },
   "outputs": [
    {
     "name": "stdout",
     "output_type": "stream",
     "text": [
      "The Most Correlated Features with SalePrice:\n",
      "SalePrice       1.000000\n",
      "OverallQual     0.790982\n",
      "GrLivArea       0.708624\n",
      "GarageCars      0.640409\n",
      "GarageArea      0.623431\n",
      "TotalBsmtSF     0.613581\n",
      "1stFlrSF        0.605852\n",
      "FullBath        0.560664\n",
      "TotRmsAbvGrd    0.533723\n",
      "YearBuilt       0.522897\n",
      "Name: SalePrice, dtype: float64 \n",
      "\n",
      "The Most Uncorrelated Features with SalePrice:\n",
      "YrSold          -0.028923\n",
      "OverallCond     -0.077856\n",
      "MSSubClass      -0.084284\n",
      "EnclosedPorch   -0.128578\n",
      "KitchenAbvGr    -0.135907\n",
      "Name: SalePrice, dtype: float64\n"
     ]
    },
    {
     "data": {
      "text/plain": [
       "(None, None)"
      ]
     },
     "execution_count": 40,
     "metadata": {},
     "output_type": "execute_result"
    }
   ],
   "source": [
    "numeric_cols = train.select_dtypes(include = [np.number])\n",
    "corr = numeric_cols.corr()\n",
    "print ('The Most Correlated Features with SalePrice:'), print (corr['SalePrice'].sort_values(ascending = False)[:10], '\\n')\n",
    "print ('The Most Uncorrelated Features with SalePrice:'), print (corr['SalePrice'].sort_values(ascending = False)[-5:])"
   ]
  },
  {
   "cell_type": "markdown",
   "metadata": {
    "id": "7hMc0rD12nT-"
   },
   "source": [
    "### Outlier"
   ]
  },
  {
   "cell_type": "code",
   "execution_count": 41,
   "metadata": {
    "colab": {
     "base_uri": "https://localhost:8080/",
     "height": 874
    },
    "execution": {
     "iopub.execute_input": "2021-06-10T05:34:44.042784Z",
     "iopub.status.busy": "2021-06-10T05:34:44.0424Z",
     "iopub.status.idle": "2021-06-10T05:34:44.270981Z",
     "shell.execute_reply": "2021-06-10T05:34:44.269897Z",
     "shell.execute_reply.started": "2021-06-10T05:34:44.042752Z"
    },
    "id": "3p09ADMGqJor",
    "outputId": "f676909d-1346-48c4-f7e5-e6ace8428e4a"
   },
   "outputs": [
    {
     "data": {
      "text/plain": [
       "Text(0.5, 1.0, 'SalePrice VS GarageArea')"
      ]
     },
     "execution_count": 41,
     "metadata": {},
     "output_type": "execute_result"
    },
    {
     "data": {
      "image/png": "[encoded data removed]",
      "text/plain": [
       "<Figure size 720x864 with 2 Axes>"
      ]
     },
     "metadata": {},
     "output_type": "display_data"
    }
   ],
   "source": [
    "fig, axes = plt.subplots(2, 1,  figsize=(10, 12))\n",
    "fig.suptitle('Vertically stacked subplots')\n",
    "sns.scatterplot(x = train['GrLivArea'], y = train['SalePrice'] , ax=axes[0])\n",
    "axes[0].set_title('SalePrice VS GrLivArea')\n",
    "\n",
    "sns.scatterplot(x = train['GarageArea'], y = train['SalePrice'], ax=axes[1])\n",
    "axes[1].set_title('SalePrice VS GarageArea')\n"
   ]
  },
  {
   "cell_type": "markdown",
   "metadata": {
    "id": "f82GekFOqJor"
   },
   "source": [
    "GrLivArea dan GarageArea memiliki outlier"
   ]
  },
  {
   "cell_type": "markdown",
   "metadata": {
    "id": "tLR1gUsEqJos"
   },
   "source": [
    "## Data Preprocessing"
   ]
  },
  {
   "cell_type": "code",
   "execution_count": 42,
   "metadata": {
    "execution": {
     "iopub.execute_input": "2021-06-10T05:34:46.010078Z",
     "iopub.status.busy": "2021-06-10T05:34:46.009641Z",
     "iopub.status.idle": "2021-06-10T05:34:46.03193Z",
     "shell.execute_reply": "2021-06-10T05:34:46.030947Z",
     "shell.execute_reply.started": "2021-06-10T05:34:46.010045Z"
    },
    "id": "NFlu3rEkqJos"
   },
   "outputs": [],
   "source": [
    "# remove GrLivArea outliers\n",
    "train= train[train['GrLivArea'] < 4500]\n",
    "# remove GarageArea outliers\n",
    "train= train[train['GarageArea'] < 1200]"
   ]
  },
  {
   "cell_type": "code",
   "execution_count": 43,
   "metadata": {
    "colab": {
     "base_uri": "https://localhost:8080/"
    },
    "execution": {
     "iopub.execute_input": "2021-06-10T05:34:42.001786Z",
     "iopub.status.busy": "2021-06-10T05:34:42.001422Z",
     "iopub.status.idle": "2021-06-10T05:34:42.02508Z",
     "shell.execute_reply": "2021-06-10T05:34:42.024368Z",
     "shell.execute_reply.started": "2021-06-10T05:34:42.001756Z"
    },
    "id": "aTeeUpkBqJom",
    "outputId": "e221d6fc-629b-4bbe-a043-401d30d2d99c"
   },
   "outputs": [
    {
     "name": "stdout",
     "output_type": "stream",
     "text": [
      "Total missing values in train set 6941\n"
     ]
    }
   ],
   "source": [
    "# cek missing values\n",
    "print ('Total missing values in train set', sum(train.isna().sum()))\n"
   ]
  },
  {
   "cell_type": "code",
   "execution_count": 44,
   "metadata": {
    "colab": {
     "base_uri": "https://localhost:8080/"
    },
    "execution": {
     "iopub.execute_input": "2021-06-10T05:34:46.795239Z",
     "iopub.status.busy": "2021-06-10T05:34:46.794882Z",
     "iopub.status.idle": "2021-06-10T05:34:46.814381Z",
     "shell.execute_reply": "2021-06-10T05:34:46.813079Z",
     "shell.execute_reply.started": "2021-06-10T05:34:46.795209Z"
    },
    "id": "K0aEi5DdqJot",
    "outputId": "2c519e0b-0c36-4573-f471-117910cb07ca"
   },
   "outputs": [
    {
     "name": "stdout",
     "output_type": "stream",
     "text": [
      "Alley          0.937414\n",
      "PoolQC         0.995873\n",
      "Fence          0.806740\n",
      "MiscFeature    0.963549\n",
      "dtype: float64\n"
     ]
    }
   ],
   "source": [
    "# drop columns with percentage of missing values > 80%\n",
    "train_percentage = train.isnull().sum() / train.shape[0]\n",
    "print (train_percentage[train_percentage > 0.80])\n",
    "train = train.drop(train_percentage[train_percentage > 0.80].index, axis = 1)"
   ]
  },
  {
   "cell_type": "code",
   "execution_count": 45,
   "metadata": {
    "execution": {
     "iopub.execute_input": "2021-06-10T05:34:51.839334Z",
     "iopub.status.busy": "2021-06-10T05:34:51.838967Z",
     "iopub.status.idle": "2021-06-10T05:34:51.900402Z",
     "shell.execute_reply": "2021-06-10T05:34:51.899476Z",
     "shell.execute_reply.started": "2021-06-10T05:34:51.839287Z"
    },
    "id": "JKhgfE4WqJot"
   },
   "outputs": [],
   "source": [
    "# encode categorical variables\n",
    "le = preprocessing.LabelEncoder()\n",
    "for name in train.columns:\n",
    "    if train[name].dtypes == 'O':\n",
    "        train[name] = train[name].astype(str)\n",
    "        le.fit(train[name])\n",
    "        train[name] = le.transform(train[name])"
   ]
  },
  {
   "cell_type": "markdown",
   "metadata": {
    "id": "KpvKsc2iqJou"
   },
   "source": [
    "Ada banyak cara untuk menangani nilai NaN, yaitu diisi dengan mean atau median, namun string tidak dapat dirata-ratakan atau median-ed. Salah satu cara untuk mengisi nilai yang hilang adalah dengan memasukkan nilai-nilai yang hilang ini sesuai dengan probabilitasnya terjadi dalam himpunan data untuk menghindari imputasi bernilai tunggal yang memengaruhi kualitas inferensi dan prediksi."
   ]
  },
  {
   "cell_type": "code",
   "execution_count": 46,
   "metadata": {
    "execution": {
     "iopub.execute_input": "2021-06-10T05:34:56.386556Z",
     "iopub.status.busy": "2021-06-10T05:34:56.386043Z",
     "iopub.status.idle": "2021-06-10T05:34:57.032804Z",
     "shell.execute_reply": "2021-06-10T05:34:57.031773Z",
     "shell.execute_reply.started": "2021-06-10T05:34:56.386525Z"
    },
    "id": "HhZKetcsqJou"
   },
   "outputs": [],
   "source": [
    "# fill missing values based on probability of occurrence\n",
    "for column in train.columns:\n",
    "    null_vals = train.isnull().values\n",
    "    a, b = np.unique(train.values[~null_vals], return_counts = 1)\n",
    "    train.loc[train[column].isna(), column] = np.random.choice(a, train[column].isnull().sum(), p = b / b.sum())"
   ]
  },
  {
   "cell_type": "code",
   "execution_count": 47,
   "metadata": {
    "execution": {
     "iopub.execute_input": "2021-06-10T05:34:57.231756Z",
     "iopub.status.busy": "2021-06-10T05:34:57.231304Z",
     "iopub.status.idle": "2021-06-10T05:34:57.284655Z",
     "shell.execute_reply": "2021-06-10T05:34:57.283812Z",
     "shell.execute_reply.started": "2021-06-10T05:34:57.231726Z"
    },
    "id": "4U3Vev14qJou"
   },
   "outputs": [],
   "source": [
    "# apply log transformation to reduce skewness over .75 by taking log(feature + 1)\n",
    "skewed_train = train.apply(lambda x: skew(x.dropna()))\n",
    "skewed_train = skewed_train[skewed_train > .75]\n",
    "train[skewed_train.index] = np.log1p(train[skewed_train.index])"
   ]
  },
  {
   "cell_type": "markdown",
   "metadata": {
    "id": "ViHE0pzVqJov"
   },
   "source": [
    "## Modelling"
   ]
  },
  {
   "cell_type": "code",
   "execution_count": 48,
   "metadata": {
    "execution": {
     "iopub.execute_input": "2021-06-10T05:34:59.47327Z",
     "iopub.status.busy": "2021-06-10T05:34:59.471082Z",
     "iopub.status.idle": "2021-06-10T05:34:59.481414Z",
     "shell.execute_reply": "2021-06-10T05:34:59.48053Z",
     "shell.execute_reply.started": "2021-06-10T05:34:59.473221Z"
    },
    "id": "GCLggCwyqJov"
   },
   "outputs": [],
   "source": [
    "#Defisinisikan X dan Y\n",
    "X = train.drop(['SalePrice', 'Id'], axis = 1)\n",
    "y = train['SalePrice']\n",
    "\n",
    "#Train test Split\n",
    "X_train, X_test, y_train, y_test = train_test_split(X, y, test_size = 0.4, random_state = 1)"
   ]
  },
  {
   "cell_type": "markdown",
   "metadata": {
    "id": "u0_n4xQKqJov"
   },
   "source": [
    "Split the data into training and testing set using scikit-learn train_test_split function. We are using 60% of the data for training and 40% for testing, train_test_split() returns four objects:\n",
    "\n",
    "- **X_train**: the subset of our features used for training\n",
    "- **X_test**: the subset which will be our ‘hold-out’ set – what we’ll use to test the model\n",
    "- **y_train**: the target variable SalePrice which corresponds to X_train\n",
    "- **y_test**: the target variable SalePrice which corresponds to X_test\n",
    "\n",
    "Now we will import the linear regression class, create an object of that class, which is the linear regression model."
   ]
  },
  {
   "cell_type": "markdown",
   "metadata": {},
   "source": [
    "### Linear Regression"
   ]
  },
  {
   "cell_type": "code",
   "execution_count": 49,
   "metadata": {
    "colab": {
     "base_uri": "https://localhost:8080/"
    },
    "execution": {
     "iopub.execute_input": "2021-06-10T05:35:00.031726Z",
     "iopub.status.busy": "2021-06-10T05:35:00.03122Z",
     "iopub.status.idle": "2021-06-10T05:35:00.035204Z",
     "shell.execute_reply": "2021-06-10T05:35:00.034455Z",
     "shell.execute_reply.started": "2021-06-10T05:35:00.031694Z"
    },
    "id": "m25OPxTpqJo4",
    "outputId": "fbe34816-7967-45aa-cddf-1859e96f951b"
   },
   "outputs": [
    {
     "name": "stdout",
     "output_type": "stream",
     "text": [
      "Coefficients:  [-4.85024518e-03 -3.34296101e-02  4.05923372e-03  9.65395143e-02\n",
      "  6.54293946e-02 -5.41926079e-04 -8.51025915e-04 -1.48315457e-01\n",
      " -2.09889240e-03 -8.73382325e-03 -1.11615300e-03  4.07895077e-02\n",
      "  4.42891966e-02  1.87295494e-02  1.59047119e-03  5.68465115e-02\n",
      "  4.42266006e-02  1.66334551e-03  6.15752315e-04  1.75130234e-02\n",
      " -5.51342985e-03 -5.46317921e-03  3.29086979e-03  1.64989564e-02\n",
      "  1.29107612e-03 -2.01379510e-02  7.02601802e-03  1.98575555e-02\n",
      " -1.79774089e-02  1.54814860e-02 -4.23772134e-03 -1.90126882e-03\n",
      "  6.68955877e-03 -1.00808420e-03 -1.55096745e-03 -7.11618589e-03\n",
      "  1.03247546e-04 -7.35209394e-02 -7.25360192e-03  4.48442505e-02\n",
      " -9.57298592e-03  9.34745214e-02  4.61352373e-03  3.29018749e-03\n",
      "  3.02229765e-01  4.01927751e-02  1.98956886e-02  1.84213339e-02\n",
      "  2.53635108e-02 -6.75093296e-03 -2.62134592e-01 -1.80479473e-02\n",
      "  7.10894805e-03  2.36948086e-02  2.48849569e-02 -4.34442747e-03\n",
      "  2.30500374e-03  3.72241671e-03 -7.93060888e-04  3.86706937e-02\n",
      "  4.51591666e-05 -1.08312609e-02  1.89930486e-03  9.17352017e-03\n",
      "  1.29703310e-03  3.35566570e-04  4.48353677e-03 -5.07827610e-03\n",
      "  5.11488976e-03  8.25321693e-03 -2.91773766e-03  8.95491269e-04\n",
      " -8.60040355e-03 -6.46104177e-04  2.43813703e-02]\n",
      "Intercept:  20.167673001883124\n"
     ]
    }
   ],
   "source": [
    " # create linear regression object\n",
    "reg = linear_model.LinearRegression()\n",
    " \n",
    "# train the model using the training sets\n",
    "reg.fit(X_train, y_train)\n",
    " \n",
    "# regression coefficients\n",
    "print('Coefficients: ', reg.coef_)\n",
    "\n",
    "# regression intercept\n",
    "print('Intercept: ', reg.intercept_)"
   ]
  },
  {
   "cell_type": "code",
   "execution_count": 50,
   "metadata": {
    "colab": {
     "base_uri": "https://localhost:8080/",
     "height": 320
    },
    "id": "Biosdpx8z9sG",
    "outputId": "20a84c92-e1da-470b-aa59-9e5a6d41d9ca"
   },
   "outputs": [
    {
     "name": "stdout",
     "output_type": "stream",
     "text": [
      "Variance score: 0.9114757934729354\n"
     ]
    },
    {
     "data": {
      "image/png": "[encoded data removed]",
      "text/plain": [
       "<Figure size 432x288 with 1 Axes>"
      ]
     },
     "metadata": {},
     "output_type": "display_data"
    }
   ],
   "source": [
    " # variance score: 1 means perfect prediction\n",
    "print('Variance score: {}'.format(reg.score(X_test, y_test)))\n",
    " \n",
    "# plot for residual error\n",
    " \n",
    "## setting plot style\n",
    "plt.style.use('fivethirtyeight')\n",
    " \n",
    "## plotting residual errors in training data\n",
    "plt.scatter(reg.predict(X_train), reg.predict(X_train) - y_train,\n",
    "            color = \"green\", s = 10, label = 'Train data')\n",
    " \n",
    "## plotting residual errors in test data\n",
    "plt.scatter(reg.predict(X_test), reg.predict(X_test) - y_test,\n",
    "            color = \"blue\", s = 10, label = 'Test data')\n",
    " \n",
    "## plotting line for zero residual error\n",
    "plt.hlines(y = 0, xmin = 0, xmax = 50, linewidth = 2)\n",
    " \n",
    "## plotting legend\n",
    "plt.legend(loc = 'upper right')\n",
    " \n",
    "## plot title\n",
    "plt.title(\"Residual errors\")\n",
    " \n",
    "## method call for showing the plot\n",
    "plt.show()"
   ]
  },
  {
   "cell_type": "code",
   "execution_count": 51,
   "metadata": {
    "execution": {
     "iopub.execute_input": "2021-06-10T05:35:02.612768Z",
     "iopub.status.busy": "2021-06-10T05:35:02.612432Z",
     "iopub.status.idle": "2021-06-10T05:35:02.622971Z",
     "shell.execute_reply": "2021-06-10T05:35:02.621882Z",
     "shell.execute_reply.started": "2021-06-10T05:35:02.61274Z"
    },
    "id": "sAVENEweqJo5"
   },
   "outputs": [],
   "source": [
    "# make predictions based on model\n",
    "y_pred = reg.predict(X_test)"
   ]
  },
  {
   "cell_type": "markdown",
   "metadata": {
    "id": "CPrAVKbzqJo5"
   },
   "source": [
    "There are three primary metrics used to evaluate linear models. These are:\n",
    "* Mean absolute error (MAE)\n",
    "* Mean squared error (MSE)\n",
    "* Root mean squared error (RMSE)\n"
   ]
  },
  {
   "cell_type": "code",
   "execution_count": 52,
   "metadata": {
    "colab": {
     "base_uri": "https://localhost:8080/"
    },
    "execution": {
     "iopub.execute_input": "2021-06-10T05:35:04.355863Z",
     "iopub.status.busy": "2021-06-10T05:35:04.355491Z",
     "iopub.status.idle": "2021-06-10T05:35:04.363965Z",
     "shell.execute_reply": "2021-06-10T05:35:04.36247Z",
     "shell.execute_reply.started": "2021-06-10T05:35:04.355835Z"
    },
    "id": "luOeJq6jqJo5",
    "outputId": "ae8c6450-4569-4398-a1d5-24adc99c4688"
   },
   "outputs": [
    {
     "name": "stdout",
     "output_type": "stream",
     "text": [
      "ACC is: 0.9114757934729354\n",
      "MAE is: 0.08513324194615694\n",
      "MSE is: 0.015000720514899984\n",
      "RMSE is: 0.12247742859359835\n"
     ]
    }
   ],
   "source": [
    "print('ACC is:',reg.score(X_test,y_test))\n",
    "print('MAE is:', mean_absolute_error(y_test, y_pred))\n",
    "print('MSE is:', mean_squared_error(y_test, y_pred))\n",
    "print('RMSE is:', sqrt(mean_squared_error(y_test, y_pred)))"
   ]
  },
  {
   "cell_type": "markdown",
   "metadata": {},
   "source": [
    "### Ridge Regression"
   ]
  },
  {
   "cell_type": "code",
   "execution_count": 53,
   "metadata": {
    "colab": {
     "base_uri": "https://localhost:8080/"
    },
    "id": "EclLqHyI07N2",
    "outputId": "b550a90c-ca18-4338-c282-9ef59b12494f"
   },
   "outputs": [
    {
     "name": "stdout",
     "output_type": "stream",
     "text": [
      "Coefficients:  [-7.25174192e-03 -3.32842110e-02  4.04438363e-03  9.48532139e-02\n",
      "  4.73642749e-02 -9.40061647e-04 -9.56593904e-04 -4.42099588e-02\n",
      " -1.92735005e-03 -6.97660789e-03 -1.17598853e-03  3.98173131e-02\n",
      "  3.97501544e-02  1.70286380e-02  2.12414614e-03  5.85257647e-02\n",
      "  4.39593061e-02  1.66960957e-03  6.49205737e-04  1.85272878e-02\n",
      " -5.97354602e-04 -5.38052928e-03  3.27549476e-03  1.60166108e-02\n",
      "  1.23930131e-03 -1.93988265e-02  7.35507310e-03  1.97594409e-02\n",
      " -1.83657042e-02  1.48930777e-02 -4.02588617e-03 -2.23431716e-03\n",
      "  6.64131945e-03 -1.49088724e-03 -1.89732348e-03 -7.40967144e-03\n",
      "  1.10058265e-04 -6.25978657e-02 -7.42353223e-03  4.79094960e-02\n",
      " -9.04542642e-03  1.22115515e-01  8.55208052e-03  5.87013032e-03\n",
      "  2.43557324e-01  3.92389461e-02  1.71796159e-02  1.96448655e-02\n",
      "  2.74318452e-02 -5.44329491e-03 -2.00251331e-01 -1.80816556e-02\n",
      "  7.27211896e-03  2.23762442e-02  2.66591170e-02 -4.49570927e-03\n",
      "  2.10826607e-03  3.88047756e-03 -1.50146350e-03  3.70334565e-02\n",
      "  5.06241874e-05 -9.78468434e-03  8.30862596e-04  9.29101411e-03\n",
      "  1.37442149e-03  5.86493318e-04  5.10034201e-03 -4.53507185e-03\n",
      "  5.11665382e-03  8.39442191e-03 -3.02153620e-03  8.59932163e-04\n",
      " -8.72261724e-03 -7.86732096e-04  2.47795997e-02]\n",
      "Intercept:  20.527321491891605\n"
     ]
    }
   ],
   "source": [
    "from sklearn.linear_model import Ridge\n",
    "model = Ridge()\n",
    "model.fit(X_train, y_train)\n",
    "\n",
    "# regression coefficients\n",
    "print('Coefficients: ', model.coef_)\n",
    "\n",
    "# regression intercept\n",
    "print('Intercept: ', model.intercept_)"
   ]
  },
  {
   "cell_type": "code",
   "execution_count": 54,
   "metadata": {
    "id": "etX8e-vh1KKm"
   },
   "outputs": [],
   "source": [
    "# make predictions based on model\n",
    "y_pred2 = model.predict(X_test)"
   ]
  },
  {
   "cell_type": "code",
   "execution_count": 55,
   "metadata": {
    "colab": {
     "base_uri": "https://localhost:8080/"
    },
    "id": "c3378hMN1MOO",
    "outputId": "53400aec-903e-42a3-eb6b-a6504daa5398"
   },
   "outputs": [
    {
     "name": "stdout",
     "output_type": "stream",
     "text": [
      "ACC is: 0.9110912864266754\n",
      "MAE is: 0.08544798274706719\n",
      "MSE is: 0.015065876509663909\n",
      "RMSE is: 0.12274313223013297\n"
     ]
    }
   ],
   "source": [
    "print('ACC is:', model.score(X_test,y_test))\n",
    "print('MAE is:', mean_absolute_error(y_test, y_pred2))\n",
    "print('MSE is:', mean_squared_error(y_test, y_pred2))\n",
    "print('RMSE is:', sqrt(mean_squared_error(y_test, y_pred2)))"
   ]
  },
  {
   "cell_type": "code",
   "execution_count": 56,
   "metadata": {
    "colab": {
     "base_uri": "https://localhost:8080/",
     "height": 342
    },
    "id": "Xs3I8uoc1bYY",
    "outputId": "30fa7b3f-3e42-4931-c4d4-4ad7fb06faaa"
   },
   "outputs": [
    {
     "data": {
      "text/plain": [
       "Text(0.5, 1.0, 'Linear Regression Model')"
      ]
     },
     "execution_count": 56,
     "metadata": {},
     "output_type": "execute_result"
    },
    {
     "data": {
      "image/png": "[encoded data removed]",
      "text/plain": [
       "<Figure size 432x288 with 1 Axes>"
      ]
     },
     "metadata": {},
     "output_type": "display_data"
    }
   ],
   "source": [
    "# alpha helps to show overlapping data\n",
    "plt.scatter(y_pred2, y_test, alpha = 0.7, color = 'b')\n",
    "plt.xlabel('Predicted Price')\n",
    "plt.ylabel('Actual Price')\n",
    "plt.title('Linear Regression Model')"
   ]
  },
  {
   "cell_type": "markdown",
   "metadata": {},
   "source": [
    "### Save Model into joblib"
   ]
  },
  {
   "cell_type": "code",
   "execution_count": 57,
   "metadata": {},
   "outputs": [
    {
     "data": {
      "text/plain": [
       "['model_lr.pkl']"
      ]
     },
     "execution_count": 57,
     "metadata": {},
     "output_type": "execute_result"
    }
   ],
   "source": [
    "import joblib\n",
    "joblib.dump(model, 'model_lr.pkl')"
   ]
  },
  {
   "cell_type": "markdown",
   "metadata": {
    "id": "F19W81CDOc4q"
   },
   "source": [
    "# Classification Models"
   ]
  },
  {
   "cell_type": "markdown",
   "metadata": {
    "id": "vYItsJ_zf4BH"
   },
   "source": [
    "## Import Library"
   ]
  },
  {
   "cell_type": "markdown",
   "metadata": {
    "id": "AxPP7Hn7Oxd3"
   },
   "source": [
    "Train two models: logistic regression and random forest for this data and shows the result & \n",
    "evaluation."
   ]
  },
  {
   "cell_type": "code",
   "execution_count": 58,
   "metadata": {
    "colab": {
     "base_uri": "https://localhost:8080/",
     "height": 206
    },
    "id": "AsrlUZt8PAer",
    "outputId": "b2f98ddb-e076-4b6a-bc76-83c61ff8de82"
   },
   "outputs": [
    {
     "data": {
      "text/html": [
       "<div>\n",
       "<style scoped>\n",
       "    .dataframe tbody tr th:only-of-type {\n",
       "        vertical-align: middle;\n",
       "    }\n",
       "\n",
       "    .dataframe tbody tr th {\n",
       "        vertical-align: top;\n",
       "    }\n",
       "\n",
       "    .dataframe thead th {\n",
       "        text-align: right;\n",
       "    }\n",
       "</style>\n",
       "<table border=\"1\" class=\"dataframe\">\n",
       "  <thead>\n",
       "    <tr style=\"text-align: right;\">\n",
       "      <th></th>\n",
       "      <th>Age</th>\n",
       "      <th>Sex</th>\n",
       "      <th>ChestPainType</th>\n",
       "      <th>RestingBP</th>\n",
       "      <th>Cholesterol</th>\n",
       "      <th>FastingBS</th>\n",
       "      <th>RestingECG</th>\n",
       "      <th>MaxHR</th>\n",
       "      <th>ExerciseAngina</th>\n",
       "      <th>Oldpeak</th>\n",
       "      <th>ST_Slope</th>\n",
       "      <th>HeartDisease</th>\n",
       "    </tr>\n",
       "  </thead>\n",
       "  <tbody>\n",
       "    <tr>\n",
       "      <th>0</th>\n",
       "      <td>40</td>\n",
       "      <td>M</td>\n",
       "      <td>ATA</td>\n",
       "      <td>140</td>\n",
       "      <td>289</td>\n",
       "      <td>0</td>\n",
       "      <td>Normal</td>\n",
       "      <td>172</td>\n",
       "      <td>N</td>\n",
       "      <td>0.0</td>\n",
       "      <td>Up</td>\n",
       "      <td>0</td>\n",
       "    </tr>\n",
       "    <tr>\n",
       "      <th>1</th>\n",
       "      <td>49</td>\n",
       "      <td>F</td>\n",
       "      <td>NAP</td>\n",
       "      <td>160</td>\n",
       "      <td>180</td>\n",
       "      <td>0</td>\n",
       "      <td>Normal</td>\n",
       "      <td>156</td>\n",
       "      <td>N</td>\n",
       "      <td>1.0</td>\n",
       "      <td>Flat</td>\n",
       "      <td>1</td>\n",
       "    </tr>\n",
       "    <tr>\n",
       "      <th>2</th>\n",
       "      <td>37</td>\n",
       "      <td>M</td>\n",
       "      <td>ATA</td>\n",
       "      <td>130</td>\n",
       "      <td>283</td>\n",
       "      <td>0</td>\n",
       "      <td>ST</td>\n",
       "      <td>98</td>\n",
       "      <td>N</td>\n",
       "      <td>0.0</td>\n",
       "      <td>Up</td>\n",
       "      <td>0</td>\n",
       "    </tr>\n",
       "    <tr>\n",
       "      <th>3</th>\n",
       "      <td>48</td>\n",
       "      <td>F</td>\n",
       "      <td>ASY</td>\n",
       "      <td>138</td>\n",
       "      <td>214</td>\n",
       "      <td>0</td>\n",
       "      <td>Normal</td>\n",
       "      <td>108</td>\n",
       "      <td>Y</td>\n",
       "      <td>1.5</td>\n",
       "      <td>Flat</td>\n",
       "      <td>1</td>\n",
       "    </tr>\n",
       "    <tr>\n",
       "      <th>4</th>\n",
       "      <td>54</td>\n",
       "      <td>M</td>\n",
       "      <td>NAP</td>\n",
       "      <td>150</td>\n",
       "      <td>195</td>\n",
       "      <td>0</td>\n",
       "      <td>Normal</td>\n",
       "      <td>122</td>\n",
       "      <td>N</td>\n",
       "      <td>0.0</td>\n",
       "      <td>Up</td>\n",
       "      <td>0</td>\n",
       "    </tr>\n",
       "  </tbody>\n",
       "</table>\n",
       "</div>"
      ],
      "text/plain": [
       "   Age Sex ChestPainType  RestingBP  Cholesterol  FastingBS RestingECG  MaxHR  \\\n",
       "0   40   M           ATA        140          289          0     Normal    172   \n",
       "1   49   F           NAP        160          180          0     Normal    156   \n",
       "2   37   M           ATA        130          283          0         ST     98   \n",
       "3   48   F           ASY        138          214          0     Normal    108   \n",
       "4   54   M           NAP        150          195          0     Normal    122   \n",
       "\n",
       "  ExerciseAngina  Oldpeak ST_Slope  HeartDisease  \n",
       "0              N      0.0       Up             0  \n",
       "1              N      1.0     Flat             1  \n",
       "2              N      0.0       Up             0  \n",
       "3              Y      1.5     Flat             1  \n",
       "4              N      0.0       Up             0  "
      ]
     },
     "execution_count": 58,
     "metadata": {},
     "output_type": "execute_result"
    }
   ],
   "source": [
    "import pandas as pd\n",
    "heart =pd.read_csv(\"heart.csv\")\n",
    "heart.head()"
   ]
  },
  {
   "cell_type": "code",
   "execution_count": 59,
   "metadata": {
    "colab": {
     "base_uri": "https://localhost:8080/"
    },
    "id": "qzluGR2WP1Tx",
    "outputId": "18290fd0-5826-4010-f102-5c26debaedb2"
   },
   "outputs": [
    {
     "name": "stdout",
     "output_type": "stream",
     "text": [
      "<class 'pandas.core.frame.DataFrame'>\n",
      "RangeIndex: 918 entries, 0 to 917\n",
      "Data columns (total 12 columns):\n",
      " #   Column          Non-Null Count  Dtype  \n",
      "---  ------          --------------  -----  \n",
      " 0   Age             918 non-null    int64  \n",
      " 1   Sex             918 non-null    object \n",
      " 2   ChestPainType   918 non-null    object \n",
      " 3   RestingBP       918 non-null    int64  \n",
      " 4   Cholesterol     918 non-null    int64  \n",
      " 5   FastingBS       918 non-null    int64  \n",
      " 6   RestingECG      918 non-null    object \n",
      " 7   MaxHR           918 non-null    int64  \n",
      " 8   ExerciseAngina  918 non-null    object \n",
      " 9   Oldpeak         918 non-null    float64\n",
      " 10  ST_Slope        918 non-null    object \n",
      " 11  HeartDisease    918 non-null    int64  \n",
      "dtypes: float64(1), int64(6), object(5)\n",
      "memory usage: 86.2+ KB\n"
     ]
    }
   ],
   "source": [
    "heart.info()"
   ]
  },
  {
   "cell_type": "code",
   "execution_count": 62,
   "metadata": {
    "colab": {
     "base_uri": "https://localhost:8080/",
     "height": 542
    },
    "id": "jLxwWUT5fh5W",
    "outputId": "04a3d927-27ae-4491-c23c-2e1d2fd04972"
   },
   "outputs": [
    {
     "ename": "ImportError",
     "evalue": "cannot import name 'qualitative' from 'plotly.colors' (c:\\Users\\ACER\\AppData\\Local\\Programs\\Python\\Python39\\lib\\site-packages\\plotly\\colors.py)",
     "output_type": "error",
     "traceback": [
      "\u001b[1;31m---------------------------------------------------------------------------\u001b[0m",
      "\u001b[1;31mImportError\u001b[0m                               Traceback (most recent call last)",
      "\u001b[1;32mc:\\Users\\ACER\\Python\\Zenius\\Topic13_14_HW_Happyta_Nilam_Sari.ipynb Cell 39\u001b[0m in \u001b[0;36m<cell line: 3>\u001b[1;34m()\u001b[0m\n\u001b[0;32m      <a href='vscode-notebook-cell:/c%3A/Users/ACER/Python/Zenius/Topic13_14_HW_Happyta_Nilam_Sari.ipynb#X51sZmlsZQ%3D%3D?line=0'>1</a>\u001b[0m \u001b[39mimport\u001b[39;00m \u001b[39mmatplotlib\u001b[39;00m\u001b[39m.\u001b[39;00m\u001b[39mpyplot\u001b[39;00m \u001b[39mas\u001b[39;00m \u001b[39mplt\u001b[39;00m\n\u001b[0;32m      <a href='vscode-notebook-cell:/c%3A/Users/ACER/Python/Zenius/Topic13_14_HW_Happyta_Nilam_Sari.ipynb#X51sZmlsZQ%3D%3D?line=1'>2</a>\u001b[0m \u001b[39mimport\u001b[39;00m \u001b[39mseaborn\u001b[39;00m \u001b[39mas\u001b[39;00m \u001b[39msns\u001b[39;00m\n\u001b[1;32m----> <a href='vscode-notebook-cell:/c%3A/Users/ACER/Python/Zenius/Topic13_14_HW_Happyta_Nilam_Sari.ipynb#X51sZmlsZQ%3D%3D?line=2'>3</a>\u001b[0m \u001b[39mimport\u001b[39;00m \u001b[39mplotly\u001b[39;00m\u001b[39m.\u001b[39;00m\u001b[39mexpress\u001b[39;00m \u001b[39mas\u001b[39;00m \u001b[39mpx\u001b[39;00m\n\u001b[0;32m      <a href='vscode-notebook-cell:/c%3A/Users/ACER/Python/Zenius/Topic13_14_HW_Happyta_Nilam_Sari.ipynb#X51sZmlsZQ%3D%3D?line=3'>4</a>\u001b[0m \u001b[39mfrom\u001b[39;00m \u001b[39mplotly\u001b[39;00m\u001b[39m.\u001b[39;00m\u001b[39msubplots\u001b[39;00m \u001b[39mimport\u001b[39;00m make_subplots\n\u001b[0;32m      <a href='vscode-notebook-cell:/c%3A/Users/ACER/Python/Zenius/Topic13_14_HW_Happyta_Nilam_Sari.ipynb#X51sZmlsZQ%3D%3D?line=4'>5</a>\u001b[0m \u001b[39mimport\u001b[39;00m \u001b[39mplotly\u001b[39;00m\u001b[39m.\u001b[39;00m\u001b[39mgraph_objects\u001b[39;00m \u001b[39mas\u001b[39;00m \u001b[39mgo\u001b[39;00m\n",
      "File \u001b[1;32mc:\\Users\\ACER\\AppData\\Local\\Programs\\Python\\Python39\\lib\\site-packages\\plotly\\express\\__init__.py:15\u001b[0m, in \u001b[0;36m<module>\u001b[1;34m\u001b[0m\n\u001b[0;32m      9\u001b[0m \u001b[39mif\u001b[39;00m pd \u001b[39mis\u001b[39;00m \u001b[39mNone\u001b[39;00m:\n\u001b[0;32m     10\u001b[0m     \u001b[39mraise\u001b[39;00m \u001b[39mImportError\u001b[39;00m(\n\u001b[0;32m     11\u001b[0m         \u001b[39m\"\"\"\\\u001b[39;00m\n\u001b[0;32m     12\u001b[0m \u001b[39mPlotly express requires pandas to be installed.\"\"\"\u001b[39;00m\n\u001b[0;32m     13\u001b[0m     )\n\u001b[1;32m---> 15\u001b[0m \u001b[39mfrom\u001b[39;00m \u001b[39m.\u001b[39;00m\u001b[39m_imshow\u001b[39;00m \u001b[39mimport\u001b[39;00m imshow\n\u001b[0;32m     16\u001b[0m \u001b[39mfrom\u001b[39;00m \u001b[39m.\u001b[39;00m\u001b[39m_chart_types\u001b[39;00m \u001b[39mimport\u001b[39;00m (  \u001b[39m# noqa: F401\u001b[39;00m\n\u001b[0;32m     17\u001b[0m     scatter,\n\u001b[0;32m     18\u001b[0m     scatter_3d,\n\u001b[1;32m   (...)\u001b[0m\n\u001b[0;32m     51\u001b[0m     density_mapbox,\n\u001b[0;32m     52\u001b[0m )\n\u001b[0;32m     55\u001b[0m \u001b[39mfrom\u001b[39;00m \u001b[39m.\u001b[39;00m\u001b[39m_core\u001b[39;00m \u001b[39mimport\u001b[39;00m (  \u001b[39m# noqa: F401\u001b[39;00m\n\u001b[0;32m     56\u001b[0m     set_mapbox_access_token,\n\u001b[0;32m     57\u001b[0m     defaults,\n\u001b[0;32m     58\u001b[0m     get_trendline_results,\n\u001b[0;32m     59\u001b[0m     NO_COLOR,\n\u001b[0;32m     60\u001b[0m )\n",
      "File \u001b[1;32mc:\\Users\\ACER\\AppData\\Local\\Programs\\Python\\Python39\\lib\\site-packages\\plotly\\express\\_imshow.py:3\u001b[0m, in \u001b[0;36m<module>\u001b[1;34m\u001b[0m\n\u001b[0;32m      1\u001b[0m \u001b[39mimport\u001b[39;00m \u001b[39mplotly\u001b[39;00m\u001b[39m.\u001b[39;00m\u001b[39mgraph_objs\u001b[39;00m \u001b[39mas\u001b[39;00m \u001b[39mgo\u001b[39;00m\n\u001b[0;32m      2\u001b[0m \u001b[39mfrom\u001b[39;00m \u001b[39m_plotly_utils\u001b[39;00m\u001b[39m.\u001b[39;00m\u001b[39mbasevalidators\u001b[39;00m \u001b[39mimport\u001b[39;00m ColorscaleValidator\n\u001b[1;32m----> 3\u001b[0m \u001b[39mfrom\u001b[39;00m \u001b[39m.\u001b[39;00m\u001b[39m_core\u001b[39;00m \u001b[39mimport\u001b[39;00m apply_default_cascade, init_figure, configure_animation_controls\n\u001b[0;32m      4\u001b[0m \u001b[39mfrom\u001b[39;00m \u001b[39m.\u001b[39;00m\u001b[39mimshow_utils\u001b[39;00m \u001b[39mimport\u001b[39;00m rescale_intensity, _integer_ranges, _integer_types\n\u001b[0;32m      5\u001b[0m \u001b[39mimport\u001b[39;00m \u001b[39mpandas\u001b[39;00m \u001b[39mas\u001b[39;00m \u001b[39mpd\u001b[39;00m\n",
      "File \u001b[1;32mc:\\Users\\ACER\\AppData\\Local\\Programs\\Python\\Python39\\lib\\site-packages\\plotly\\express\\_core.py:8\u001b[0m, in \u001b[0;36m<module>\u001b[1;34m\u001b[0m\n\u001b[0;32m      5\u001b[0m \u001b[39mfrom\u001b[39;00m \u001b[39m.\u001b[39;00m\u001b[39mtrendline_functions\u001b[39;00m \u001b[39mimport\u001b[39;00m ols, lowess, rolling, expanding, ewm\n\u001b[0;32m      7\u001b[0m \u001b[39mfrom\u001b[39;00m \u001b[39m_plotly_utils\u001b[39;00m\u001b[39m.\u001b[39;00m\u001b[39mbasevalidators\u001b[39;00m \u001b[39mimport\u001b[39;00m ColorscaleValidator\n\u001b[1;32m----> 8\u001b[0m \u001b[39mfrom\u001b[39;00m \u001b[39mplotly\u001b[39;00m\u001b[39m.\u001b[39;00m\u001b[39mcolors\u001b[39;00m \u001b[39mimport\u001b[39;00m qualitative, sequential\n\u001b[0;32m      9\u001b[0m \u001b[39mimport\u001b[39;00m \u001b[39mmath\u001b[39;00m\n\u001b[0;32m     10\u001b[0m \u001b[39mimport\u001b[39;00m \u001b[39mpandas\u001b[39;00m \u001b[39mas\u001b[39;00m \u001b[39mpd\u001b[39;00m\n",
      "\u001b[1;31mImportError\u001b[0m: cannot import name 'qualitative' from 'plotly.colors' (c:\\Users\\ACER\\AppData\\Local\\Programs\\Python\\Python39\\lib\\site-packages\\plotly\\colors.py)"
     ]
    }
   ],
   "source": [
    "import matplotlib.pyplot as plt\n",
    "import seaborn as sns\n",
    "import plotly.express as px\n",
    "from plotly.subplots import make_subplots\n",
    "import plotly.graph_objects as go\n",
    "\n",
    "df_column = ['Age', 'RestingBP', 'Cholesterol','FastingBS', 'MaxHR', 'Oldpeak']\n",
    "fig = go.Figure()\n",
    "for i in df_column:\n",
    "    fig.add_trace(go.Box(y=heart[i], name=i))\n",
    "fig.show() "
   ]
  },
  {
   "cell_type": "markdown",
   "metadata": {
    "id": "2jjDWKvE9WBE"
   },
   "source": [
    "## Data Preprocessing"
   ]
  },
  {
   "cell_type": "code",
   "execution_count": 91,
   "metadata": {
    "id": "lfWOLB4S57YQ"
   },
   "outputs": [],
   "source": [
    "#Detecting outliers\n",
    "\n",
    "Q1=heart.quantile(0.25)\n",
    "Q3=heart.quantile(0.75)\n",
    "\n",
    "IQR=Q3-Q1\n"
   ]
  },
  {
   "cell_type": "code",
   "execution_count": 92,
   "metadata": {
    "id": "tGpzz-DY5D18"
   },
   "outputs": [],
   "source": [
    "#Definisi deteksi outlier\n",
    "def outlier_detect(heart, col):\n",
    "    q1_col = Q1[col]\n",
    "    iqr_col = IQR[col]\n",
    "    q3_col = Q3[col]\n",
    "    return heart[((heart[col] < (q1_col - 1.5 * iqr_col)) |(heart[col] > (q3_col + 1.5 * iqr_col)))]\n",
    "\n",
    "# ------------------------------------------------\n",
    "def outlier_detect_normal(heart, col):\n",
    "    m = heart[col].mean()\n",
    "    s = heart[col].std()\n",
    "    return heart[((heart[col]-m)/s).abs()>3]\n",
    "\n",
    "# ------------------------------------------------\n",
    "def lower_outlier(heart, col):\n",
    "    q1_col = Q1[col]\n",
    "    iqr_col = IQR[col]\n",
    "    q3_col = Q3[col]\n",
    "    lower = heart[(heart[col] < (q1_col - 1.5 * iqr_col))]\n",
    "    return lower\n",
    "\n",
    "# ------------------------------------------------\n",
    "def upper_outlier(heart, col):\n",
    "    q1_col = Q1[col]\n",
    "    iqr_col = IQR[col]\n",
    "    q3_col = Q3[col]\n",
    "    upper = heart[(heart[col] > (q3_col + 1.5 * iqr_col))]\n",
    "    return upper\n",
    "\n",
    "# ------------------------------------------------\n",
    "def replace_upper(heart, col):\n",
    "    q1_col = Q1[col]\n",
    "    iqr_col = IQR[col]\n",
    "    q3_col = Q3[col]\n",
    "    tmp = 9999999\n",
    "    upper = q3_col + 1.5 * iqr_col\n",
    "    heart[col] = heart[col].where(lambda x: (x < (upper)), tmp)\n",
    "    heart[col] = heart[col].replace(tmp, upper)\n",
    "    print('outlier replace with upper bound - {}' .format(col)) \n",
    "    \n",
    "# ------------------------------------------------\n",
    "def replace_lower(heart, col):\n",
    "    q1_col = Q1[col]\n",
    "    iqr_col = IQR[col]\n",
    "    q3_col = Q3[col]\n",
    "    tmp = 1111111\n",
    "    lower = q1_col - 1.5 * iqr_col\n",
    "    heart[col] = heart[col].where(lambda x: (x > (lower)), tmp)\n",
    "    heart[col] = heart[col].replace(tmp, lower)\n",
    "    print('outlier replace with lower bound - {}' .format(col)) "
   ]
  },
  {
   "cell_type": "code",
   "execution_count": 93,
   "metadata": {
    "colab": {
     "base_uri": "https://localhost:8080/"
    },
    "id": "cyFwaSbI2bIM",
    "outputId": "2393794c-0927-4e94-cea3-b95efe15cadf"
   },
   "outputs": [
    {
     "name": "stdout",
     "output_type": "stream",
     "text": [
      "IQR => Age: 0\n",
      "Z_Score => Age: 0\n",
      "********************************\n",
      "IQR => RestingBP: 0\n",
      "Z_Score => RestingBP: 0\n",
      "********************************\n",
      "IQR => Cholesterol: 0\n",
      "Z_Score => Cholesterol: 0\n",
      "********************************\n",
      "IQR => MaxHR: 0\n",
      "Z_Score => MaxHR: 0\n",
      "********************************\n",
      "IQR => Oldpeak: 0\n",
      "Z_Score => Oldpeak: 1\n",
      "********************************\n"
     ]
    }
   ],
   "source": [
    "final_numeric_feature = ['Age', 'RestingBP', 'Cholesterol', 'MaxHR', 'Oldpeak']\n",
    "for i in range(len(final_numeric_feature)):\n",
    "    print(\"IQR => {}: {}\".format(final_numeric_feature[i],(outlier_detect(heart[final_numeric_feature],final_numeric_feature[i]).shape[0])))\n",
    "    print(\"Z_Score => {}: {}\".format(final_numeric_feature[i],(outlier_detect_normal(heart[final_numeric_feature],final_numeric_feature[i]).shape[0])))\n",
    "    print(\"********************************\")"
   ]
  },
  {
   "cell_type": "code",
   "execution_count": 94,
   "metadata": {
    "colab": {
     "base_uri": "https://localhost:8080/"
    },
    "id": "W8Tlmg0E1cRS",
    "outputId": "0c746f61-745c-4724-9bcd-9c8950c1d920"
   },
   "outputs": [
    {
     "data": {
      "text/plain": [
       "[]"
      ]
     },
     "execution_count": 94,
     "metadata": {},
     "output_type": "execute_result"
    }
   ],
   "source": [
    "outlier = []\n",
    "for i in range(len(final_numeric_feature)):\n",
    "    if outlier_detect(heart[final_numeric_feature],final_numeric_feature[i]).shape[0] !=0:\n",
    "        outlier.append(final_numeric_feature[i])\n",
    "\n",
    "outlier"
   ]
  },
  {
   "cell_type": "code",
   "execution_count": 95,
   "metadata": {
    "colab": {
     "base_uri": "https://localhost:8080/"
    },
    "id": "zCUFivBf6zDp",
    "outputId": "eae819b7-139d-4901-ad12-8f0e9f5f1068"
   },
   "outputs": [
    {
     "name": "stdout",
     "output_type": "stream",
     "text": [
      "\n",
      "**************************************\n",
      "\n"
     ]
    }
   ],
   "source": [
    "for i in range(len(outlier)):\n",
    "    replace_upper(heart, outlier[i]) \n",
    "    \n",
    "print(\"\\n**************************************\\n\")\n",
    "for i in range(len(outlier)):\n",
    "    replace_lower(heart, outlier[i])"
   ]
  },
  {
   "cell_type": "code",
   "execution_count": 96,
   "metadata": {
    "colab": {
     "base_uri": "https://localhost:8080/"
    },
    "id": "dTPKzkxY7OxW",
    "outputId": "07fa3788-7235-4f9e-c1f7-9da85c748811"
   },
   "outputs": [
    {
     "name": "stdout",
     "output_type": "stream",
     "text": [
      "IQR => Age: 0\n",
      "Z_Score => Age: 0\n",
      "********************************\n",
      "IQR => RestingBP: 0\n",
      "Z_Score => RestingBP: 0\n",
      "********************************\n",
      "IQR => Cholesterol: 0\n",
      "Z_Score => Cholesterol: 0\n",
      "********************************\n",
      "IQR => MaxHR: 0\n",
      "Z_Score => MaxHR: 0\n",
      "********************************\n",
      "IQR => Oldpeak: 0\n",
      "Z_Score => Oldpeak: 1\n",
      "********************************\n"
     ]
    }
   ],
   "source": [
    "for i in range(len(final_numeric_feature)):\n",
    "    print(\"IQR => {}: {}\".format(final_numeric_feature[i],(outlier_detect(heart,final_numeric_feature[i]).shape[0])))\n",
    "    print(\"Z_Score => {}: {}\".format(final_numeric_feature[i],(outlier_detect_normal(heart,final_numeric_feature[i]).shape[0])))\n",
    "    print(\"********************************\")"
   ]
  },
  {
   "cell_type": "code",
   "execution_count": 97,
   "metadata": {
    "colab": {
     "base_uri": "https://localhost:8080/",
     "height": 206
    },
    "id": "l6mmFXYT8WaT",
    "outputId": "ae0fe1ba-e22a-4fda-bc62-714ccceb7c67"
   },
   "outputs": [
    {
     "data": {
      "text/html": [
       "<div>\n",
       "<style scoped>\n",
       "    .dataframe tbody tr th:only-of-type {\n",
       "        vertical-align: middle;\n",
       "    }\n",
       "\n",
       "    .dataframe tbody tr th {\n",
       "        vertical-align: top;\n",
       "    }\n",
       "\n",
       "    .dataframe thead th {\n",
       "        text-align: right;\n",
       "    }\n",
       "</style>\n",
       "<table border=\"1\" class=\"dataframe\">\n",
       "  <thead>\n",
       "    <tr style=\"text-align: right;\">\n",
       "      <th></th>\n",
       "      <th>Age</th>\n",
       "      <th>RestingBP</th>\n",
       "      <th>Cholesterol</th>\n",
       "      <th>FastingBS</th>\n",
       "      <th>MaxHR</th>\n",
       "      <th>Oldpeak</th>\n",
       "      <th>HeartDisease</th>\n",
       "      <th>Sex_F</th>\n",
       "      <th>Sex_M</th>\n",
       "      <th>ChestPainType_ASY</th>\n",
       "      <th>...</th>\n",
       "      <th>ChestPainType_NAP</th>\n",
       "      <th>ChestPainType_TA</th>\n",
       "      <th>RestingECG_LVH</th>\n",
       "      <th>RestingECG_Normal</th>\n",
       "      <th>RestingECG_ST</th>\n",
       "      <th>ExerciseAngina_N</th>\n",
       "      <th>ExerciseAngina_Y</th>\n",
       "      <th>ST_Slope_Down</th>\n",
       "      <th>ST_Slope_Flat</th>\n",
       "      <th>ST_Slope_Up</th>\n",
       "    </tr>\n",
       "  </thead>\n",
       "  <tbody>\n",
       "    <tr>\n",
       "      <th>0</th>\n",
       "      <td>40</td>\n",
       "      <td>140</td>\n",
       "      <td>289.0</td>\n",
       "      <td>0</td>\n",
       "      <td>172</td>\n",
       "      <td>0.0</td>\n",
       "      <td>0</td>\n",
       "      <td>0</td>\n",
       "      <td>1</td>\n",
       "      <td>0</td>\n",
       "      <td>...</td>\n",
       "      <td>0</td>\n",
       "      <td>0</td>\n",
       "      <td>0</td>\n",
       "      <td>1</td>\n",
       "      <td>0</td>\n",
       "      <td>1</td>\n",
       "      <td>0</td>\n",
       "      <td>0</td>\n",
       "      <td>0</td>\n",
       "      <td>1</td>\n",
       "    </tr>\n",
       "    <tr>\n",
       "      <th>1</th>\n",
       "      <td>49</td>\n",
       "      <td>160</td>\n",
       "      <td>180.0</td>\n",
       "      <td>0</td>\n",
       "      <td>156</td>\n",
       "      <td>1.0</td>\n",
       "      <td>1</td>\n",
       "      <td>1</td>\n",
       "      <td>0</td>\n",
       "      <td>0</td>\n",
       "      <td>...</td>\n",
       "      <td>1</td>\n",
       "      <td>0</td>\n",
       "      <td>0</td>\n",
       "      <td>1</td>\n",
       "      <td>0</td>\n",
       "      <td>1</td>\n",
       "      <td>0</td>\n",
       "      <td>0</td>\n",
       "      <td>1</td>\n",
       "      <td>0</td>\n",
       "    </tr>\n",
       "    <tr>\n",
       "      <th>2</th>\n",
       "      <td>37</td>\n",
       "      <td>130</td>\n",
       "      <td>283.0</td>\n",
       "      <td>0</td>\n",
       "      <td>98</td>\n",
       "      <td>0.0</td>\n",
       "      <td>0</td>\n",
       "      <td>0</td>\n",
       "      <td>1</td>\n",
       "      <td>0</td>\n",
       "      <td>...</td>\n",
       "      <td>0</td>\n",
       "      <td>0</td>\n",
       "      <td>0</td>\n",
       "      <td>0</td>\n",
       "      <td>1</td>\n",
       "      <td>1</td>\n",
       "      <td>0</td>\n",
       "      <td>0</td>\n",
       "      <td>0</td>\n",
       "      <td>1</td>\n",
       "    </tr>\n",
       "    <tr>\n",
       "      <th>3</th>\n",
       "      <td>48</td>\n",
       "      <td>138</td>\n",
       "      <td>214.0</td>\n",
       "      <td>0</td>\n",
       "      <td>108</td>\n",
       "      <td>1.5</td>\n",
       "      <td>1</td>\n",
       "      <td>1</td>\n",
       "      <td>0</td>\n",
       "      <td>1</td>\n",
       "      <td>...</td>\n",
       "      <td>0</td>\n",
       "      <td>0</td>\n",
       "      <td>0</td>\n",
       "      <td>1</td>\n",
       "      <td>0</td>\n",
       "      <td>0</td>\n",
       "      <td>1</td>\n",
       "      <td>0</td>\n",
       "      <td>1</td>\n",
       "      <td>0</td>\n",
       "    </tr>\n",
       "    <tr>\n",
       "      <th>4</th>\n",
       "      <td>54</td>\n",
       "      <td>150</td>\n",
       "      <td>195.0</td>\n",
       "      <td>0</td>\n",
       "      <td>122</td>\n",
       "      <td>0.0</td>\n",
       "      <td>0</td>\n",
       "      <td>0</td>\n",
       "      <td>1</td>\n",
       "      <td>0</td>\n",
       "      <td>...</td>\n",
       "      <td>1</td>\n",
       "      <td>0</td>\n",
       "      <td>0</td>\n",
       "      <td>1</td>\n",
       "      <td>0</td>\n",
       "      <td>1</td>\n",
       "      <td>0</td>\n",
       "      <td>0</td>\n",
       "      <td>0</td>\n",
       "      <td>1</td>\n",
       "    </tr>\n",
       "  </tbody>\n",
       "</table>\n",
       "<p>5 rows × 21 columns</p>\n",
       "</div>"
      ],
      "text/plain": [
       "   Age  RestingBP  Cholesterol  FastingBS  MaxHR  Oldpeak  HeartDisease  \\\n",
       "0   40        140        289.0          0    172      0.0             0   \n",
       "1   49        160        180.0          0    156      1.0             1   \n",
       "2   37        130        283.0          0     98      0.0             0   \n",
       "3   48        138        214.0          0    108      1.5             1   \n",
       "4   54        150        195.0          0    122      0.0             0   \n",
       "\n",
       "   Sex_F  Sex_M  ChestPainType_ASY  ...  ChestPainType_NAP  ChestPainType_TA  \\\n",
       "0      0      1                  0  ...                  0                 0   \n",
       "1      1      0                  0  ...                  1                 0   \n",
       "2      0      1                  0  ...                  0                 0   \n",
       "3      1      0                  1  ...                  0                 0   \n",
       "4      0      1                  0  ...                  1                 0   \n",
       "\n",
       "   RestingECG_LVH  RestingECG_Normal  RestingECG_ST  ExerciseAngina_N  \\\n",
       "0               0                  1              0                 1   \n",
       "1               0                  1              0                 1   \n",
       "2               0                  0              1                 1   \n",
       "3               0                  1              0                 0   \n",
       "4               0                  1              0                 1   \n",
       "\n",
       "   ExerciseAngina_Y  ST_Slope_Down  ST_Slope_Flat  ST_Slope_Up  \n",
       "0                 0              0              0            1  \n",
       "1                 0              0              1            0  \n",
       "2                 0              0              0            1  \n",
       "3                 1              0              1            0  \n",
       "4                 0              0              0            1  \n",
       "\n",
       "[5 rows x 21 columns]"
      ]
     },
     "execution_count": 97,
     "metadata": {},
     "output_type": "execute_result"
    }
   ],
   "source": [
    "## Converting Zero Value of Cholesterol to NaN Value\n",
    "heart.loc[heart['Cholesterol'] == 0,'Cholesterol'] = np.nan\n",
    "heart.head(5)"
   ]
  },
  {
   "cell_type": "code",
   "execution_count": 98,
   "metadata": {
    "colab": {
     "base_uri": "https://localhost:8080/"
    },
    "id": "JNDGqkGQ9anm",
    "outputId": "01a461e6-a40a-47a2-b6a1-21cd5f3e8aeb"
   },
   "outputs": [
    {
     "data": {
      "text/plain": [
       "0      289.0\n",
       "1      180.0\n",
       "2      283.0\n",
       "3      214.0\n",
       "4      195.0\n",
       "       ...  \n",
       "913    264.0\n",
       "914    193.0\n",
       "915    131.0\n",
       "916    236.0\n",
       "917    175.0\n",
       "Name: Cholesterol, Length: 918, dtype: float64"
      ]
     },
     "execution_count": 98,
     "metadata": {},
     "output_type": "execute_result"
    }
   ],
   "source": [
    "## NaN value of Cholesterol is filled with median value\n",
    "heart[\"Cholesterol\"] = heart[\"Cholesterol\"].fillna(heart[\"Cholesterol\"].median())\n",
    "heart[\"Cholesterol\"]"
   ]
  },
  {
   "cell_type": "code",
   "execution_count": 99,
   "metadata": {
    "id": "ZdIc4m1q9r0O"
   },
   "outputs": [],
   "source": [
    "#We should remove this column \n",
    "heart = heart.drop(heart[(heart['RestingBP'] == 0)].index) "
   ]
  },
  {
   "cell_type": "code",
   "execution_count": 100,
   "metadata": {
    "colab": {
     "base_uri": "https://localhost:8080/",
     "height": 299
    },
    "id": "q7M151UNSVtc",
    "outputId": "bafacb12-8a6c-4aa6-c314-a8cbe3da78a6"
   },
   "outputs": [
    {
     "data": {
      "text/html": [
       "<div>\n",
       "<style scoped>\n",
       "    .dataframe tbody tr th:only-of-type {\n",
       "        vertical-align: middle;\n",
       "    }\n",
       "\n",
       "    .dataframe tbody tr th {\n",
       "        vertical-align: top;\n",
       "    }\n",
       "\n",
       "    .dataframe thead th {\n",
       "        text-align: right;\n",
       "    }\n",
       "</style>\n",
       "<table border=\"1\" class=\"dataframe\">\n",
       "  <thead>\n",
       "    <tr style=\"text-align: right;\">\n",
       "      <th></th>\n",
       "      <th>Age</th>\n",
       "      <th>RestingBP</th>\n",
       "      <th>Cholesterol</th>\n",
       "      <th>FastingBS</th>\n",
       "      <th>MaxHR</th>\n",
       "      <th>Oldpeak</th>\n",
       "      <th>HeartDisease</th>\n",
       "      <th>Sex_F</th>\n",
       "      <th>Sex_M</th>\n",
       "      <th>ChestPainType_ASY</th>\n",
       "      <th>...</th>\n",
       "      <th>ChestPainType_NAP</th>\n",
       "      <th>ChestPainType_TA</th>\n",
       "      <th>RestingECG_LVH</th>\n",
       "      <th>RestingECG_Normal</th>\n",
       "      <th>RestingECG_ST</th>\n",
       "      <th>ExerciseAngina_N</th>\n",
       "      <th>ExerciseAngina_Y</th>\n",
       "      <th>ST_Slope_Down</th>\n",
       "      <th>ST_Slope_Flat</th>\n",
       "      <th>ST_Slope_Up</th>\n",
       "    </tr>\n",
       "  </thead>\n",
       "  <tbody>\n",
       "    <tr>\n",
       "      <th>0</th>\n",
       "      <td>40</td>\n",
       "      <td>140</td>\n",
       "      <td>289.0</td>\n",
       "      <td>0</td>\n",
       "      <td>172</td>\n",
       "      <td>0.0</td>\n",
       "      <td>0</td>\n",
       "      <td>0</td>\n",
       "      <td>1</td>\n",
       "      <td>0</td>\n",
       "      <td>...</td>\n",
       "      <td>0</td>\n",
       "      <td>0</td>\n",
       "      <td>0</td>\n",
       "      <td>1</td>\n",
       "      <td>0</td>\n",
       "      <td>1</td>\n",
       "      <td>0</td>\n",
       "      <td>0</td>\n",
       "      <td>0</td>\n",
       "      <td>1</td>\n",
       "    </tr>\n",
       "    <tr>\n",
       "      <th>1</th>\n",
       "      <td>49</td>\n",
       "      <td>160</td>\n",
       "      <td>180.0</td>\n",
       "      <td>0</td>\n",
       "      <td>156</td>\n",
       "      <td>1.0</td>\n",
       "      <td>1</td>\n",
       "      <td>1</td>\n",
       "      <td>0</td>\n",
       "      <td>0</td>\n",
       "      <td>...</td>\n",
       "      <td>1</td>\n",
       "      <td>0</td>\n",
       "      <td>0</td>\n",
       "      <td>1</td>\n",
       "      <td>0</td>\n",
       "      <td>1</td>\n",
       "      <td>0</td>\n",
       "      <td>0</td>\n",
       "      <td>1</td>\n",
       "      <td>0</td>\n",
       "    </tr>\n",
       "    <tr>\n",
       "      <th>2</th>\n",
       "      <td>37</td>\n",
       "      <td>130</td>\n",
       "      <td>283.0</td>\n",
       "      <td>0</td>\n",
       "      <td>98</td>\n",
       "      <td>0.0</td>\n",
       "      <td>0</td>\n",
       "      <td>0</td>\n",
       "      <td>1</td>\n",
       "      <td>0</td>\n",
       "      <td>...</td>\n",
       "      <td>0</td>\n",
       "      <td>0</td>\n",
       "      <td>0</td>\n",
       "      <td>0</td>\n",
       "      <td>1</td>\n",
       "      <td>1</td>\n",
       "      <td>0</td>\n",
       "      <td>0</td>\n",
       "      <td>0</td>\n",
       "      <td>1</td>\n",
       "    </tr>\n",
       "    <tr>\n",
       "      <th>3</th>\n",
       "      <td>48</td>\n",
       "      <td>138</td>\n",
       "      <td>214.0</td>\n",
       "      <td>0</td>\n",
       "      <td>108</td>\n",
       "      <td>1.5</td>\n",
       "      <td>1</td>\n",
       "      <td>1</td>\n",
       "      <td>0</td>\n",
       "      <td>1</td>\n",
       "      <td>...</td>\n",
       "      <td>0</td>\n",
       "      <td>0</td>\n",
       "      <td>0</td>\n",
       "      <td>1</td>\n",
       "      <td>0</td>\n",
       "      <td>0</td>\n",
       "      <td>1</td>\n",
       "      <td>0</td>\n",
       "      <td>1</td>\n",
       "      <td>0</td>\n",
       "    </tr>\n",
       "    <tr>\n",
       "      <th>4</th>\n",
       "      <td>54</td>\n",
       "      <td>150</td>\n",
       "      <td>195.0</td>\n",
       "      <td>0</td>\n",
       "      <td>122</td>\n",
       "      <td>0.0</td>\n",
       "      <td>0</td>\n",
       "      <td>0</td>\n",
       "      <td>1</td>\n",
       "      <td>0</td>\n",
       "      <td>...</td>\n",
       "      <td>1</td>\n",
       "      <td>0</td>\n",
       "      <td>0</td>\n",
       "      <td>1</td>\n",
       "      <td>0</td>\n",
       "      <td>1</td>\n",
       "      <td>0</td>\n",
       "      <td>0</td>\n",
       "      <td>0</td>\n",
       "      <td>1</td>\n",
       "    </tr>\n",
       "  </tbody>\n",
       "</table>\n",
       "<p>5 rows × 21 columns</p>\n",
       "</div>"
      ],
      "text/plain": [
       "   Age  RestingBP  Cholesterol  FastingBS  MaxHR  Oldpeak  HeartDisease  \\\n",
       "0   40        140        289.0          0    172      0.0             0   \n",
       "1   49        160        180.0          0    156      1.0             1   \n",
       "2   37        130        283.0          0     98      0.0             0   \n",
       "3   48        138        214.0          0    108      1.5             1   \n",
       "4   54        150        195.0          0    122      0.0             0   \n",
       "\n",
       "   Sex_F  Sex_M  ChestPainType_ASY  ...  ChestPainType_NAP  ChestPainType_TA  \\\n",
       "0      0      1                  0  ...                  0                 0   \n",
       "1      1      0                  0  ...                  1                 0   \n",
       "2      0      1                  0  ...                  0                 0   \n",
       "3      1      0                  1  ...                  0                 0   \n",
       "4      0      1                  0  ...                  1                 0   \n",
       "\n",
       "   RestingECG_LVH  RestingECG_Normal  RestingECG_ST  ExerciseAngina_N  \\\n",
       "0               0                  1              0                 1   \n",
       "1               0                  1              0                 1   \n",
       "2               0                  0              1                 1   \n",
       "3               0                  1              0                 0   \n",
       "4               0                  1              0                 1   \n",
       "\n",
       "   ExerciseAngina_Y  ST_Slope_Down  ST_Slope_Flat  ST_Slope_Up  \n",
       "0                 0              0              0            1  \n",
       "1                 0              0              1            0  \n",
       "2                 0              0              0            1  \n",
       "3                 1              0              1            0  \n",
       "4                 0              0              0            1  \n",
       "\n",
       "[5 rows x 21 columns]"
      ]
     },
     "execution_count": 100,
     "metadata": {},
     "output_type": "execute_result"
    }
   ],
   "source": [
    "#one hot encoding\n",
    "heart = pd.get_dummies(heart)\n",
    "heart.head()"
   ]
  },
  {
   "cell_type": "code",
   "execution_count": 101,
   "metadata": {
    "colab": {
     "base_uri": "https://localhost:8080/"
    },
    "id": "TwXMBc_tS6Oq",
    "outputId": "93ba3cde-6f0d-4e20-bf7a-8c5a618a7824"
   },
   "outputs": [
    {
     "name": "stdout",
     "output_type": "stream",
     "text": [
      "<class 'pandas.core.frame.DataFrame'>\n",
      "RangeIndex: 918 entries, 0 to 917\n",
      "Data columns (total 21 columns):\n",
      " #   Column             Non-Null Count  Dtype  \n",
      "---  ------             --------------  -----  \n",
      " 0   Age                918 non-null    int64  \n",
      " 1   RestingBP          918 non-null    int64  \n",
      " 2   Cholesterol        918 non-null    float64\n",
      " 3   FastingBS          918 non-null    int64  \n",
      " 4   MaxHR              918 non-null    int64  \n",
      " 5   Oldpeak            918 non-null    float64\n",
      " 6   HeartDisease       918 non-null    int64  \n",
      " 7   Sex_F              918 non-null    uint8  \n",
      " 8   Sex_M              918 non-null    uint8  \n",
      " 9   ChestPainType_ASY  918 non-null    uint8  \n",
      " 10  ChestPainType_ATA  918 non-null    uint8  \n",
      " 11  ChestPainType_NAP  918 non-null    uint8  \n",
      " 12  ChestPainType_TA   918 non-null    uint8  \n",
      " 13  RestingECG_LVH     918 non-null    uint8  \n",
      " 14  RestingECG_Normal  918 non-null    uint8  \n",
      " 15  RestingECG_ST      918 non-null    uint8  \n",
      " 16  ExerciseAngina_N   918 non-null    uint8  \n",
      " 17  ExerciseAngina_Y   918 non-null    uint8  \n",
      " 18  ST_Slope_Down      918 non-null    uint8  \n",
      " 19  ST_Slope_Flat      918 non-null    uint8  \n",
      " 20  ST_Slope_Up        918 non-null    uint8  \n",
      "dtypes: float64(2), int64(5), uint8(14)\n",
      "memory usage: 62.9 KB\n"
     ]
    }
   ],
   "source": [
    "heart.info()"
   ]
  },
  {
   "cell_type": "markdown",
   "metadata": {
    "id": "TuG39raf9k7f"
   },
   "source": [
    "## Modelling"
   ]
  },
  {
   "cell_type": "code",
   "execution_count": 102,
   "metadata": {
    "id": "Y1gN8v-oTtLR"
   },
   "outputs": [],
   "source": [
    "# defining feature matrix(X) and response vector(y)\n",
    "X = heart.loc[:, heart.columns != 'HeartDisease']\n",
    "y = heart[\"HeartDisease\"]"
   ]
  },
  {
   "cell_type": "code",
   "execution_count": 103,
   "metadata": {
    "id": "w3zaG9AhT3ZK"
   },
   "outputs": [],
   "source": [
    "# splitting X and y into training and testing sets\n",
    "from sklearn.model_selection import train_test_split\n",
    "X_train, X_test, y_train, y_test = train_test_split(X, y, test_size=0.4,\n",
    "                                                    random_state=1)"
   ]
  },
  {
   "cell_type": "code",
   "execution_count": 104,
   "metadata": {
    "id": "aKVvX3ni_WX3"
   },
   "outputs": [],
   "source": [
    "from sklearn.preprocessing import MinMaxScaler\n",
    "scaler = MinMaxScaler()\n",
    "X_train = scaler.fit_transform(X_train) \n",
    "X_test = scaler.fit_transform(X_test)"
   ]
  },
  {
   "cell_type": "code",
   "execution_count": 105,
   "metadata": {
    "colab": {
     "base_uri": "https://localhost:8080/",
     "height": 528
    },
    "id": "_AbGwa83_tu1",
    "outputId": "b16e1d1e-9a2b-49c5-ebc6-fa34acf3f5c3"
   },
   "outputs": [
    {
     "name": "stdout",
     "output_type": "stream",
     "text": [
      "X train :\n",
      "\n"
     ]
    },
    {
     "data": {
      "text/html": [
       "<div>\n",
       "<style scoped>\n",
       "    .dataframe tbody tr th:only-of-type {\n",
       "        vertical-align: middle;\n",
       "    }\n",
       "\n",
       "    .dataframe tbody tr th {\n",
       "        vertical-align: top;\n",
       "    }\n",
       "\n",
       "    .dataframe thead th {\n",
       "        text-align: right;\n",
       "    }\n",
       "</style>\n",
       "<table border=\"1\" class=\"dataframe\">\n",
       "  <thead>\n",
       "    <tr style=\"text-align: right;\">\n",
       "      <th></th>\n",
       "      <th>Age</th>\n",
       "      <th>RestingBP</th>\n",
       "      <th>Cholesterol</th>\n",
       "      <th>FastingBS</th>\n",
       "      <th>MaxHR</th>\n",
       "      <th>Oldpeak</th>\n",
       "      <th>Sex_F</th>\n",
       "      <th>Sex_M</th>\n",
       "      <th>ChestPainType_ASY</th>\n",
       "      <th>ChestPainType_ATA</th>\n",
       "      <th>ChestPainType_NAP</th>\n",
       "      <th>ChestPainType_TA</th>\n",
       "      <th>RestingECG_LVH</th>\n",
       "      <th>RestingECG_Normal</th>\n",
       "      <th>RestingECG_ST</th>\n",
       "      <th>ExerciseAngina_N</th>\n",
       "      <th>ExerciseAngina_Y</th>\n",
       "      <th>ST_Slope_Down</th>\n",
       "      <th>ST_Slope_Flat</th>\n",
       "      <th>ST_Slope_Up</th>\n",
       "    </tr>\n",
       "  </thead>\n",
       "  <tbody>\n",
       "    <tr>\n",
       "      <th>0</th>\n",
       "      <td>0.854167</td>\n",
       "      <td>0.641026</td>\n",
       "      <td>0.473000</td>\n",
       "      <td>1.0</td>\n",
       "      <td>0.338235</td>\n",
       "      <td>0.625000</td>\n",
       "      <td>0.0</td>\n",
       "      <td>1.0</td>\n",
       "      <td>1.0</td>\n",
       "      <td>0.0</td>\n",
       "      <td>0.0</td>\n",
       "      <td>0.0</td>\n",
       "      <td>0.0</td>\n",
       "      <td>0.0</td>\n",
       "      <td>1.0</td>\n",
       "      <td>0.0</td>\n",
       "      <td>1.0</td>\n",
       "      <td>0.0</td>\n",
       "      <td>1.0</td>\n",
       "      <td>0.0</td>\n",
       "    </tr>\n",
       "    <tr>\n",
       "      <th>1</th>\n",
       "      <td>0.250000</td>\n",
       "      <td>0.179487</td>\n",
       "      <td>0.553000</td>\n",
       "      <td>0.0</td>\n",
       "      <td>0.102941</td>\n",
       "      <td>0.375000</td>\n",
       "      <td>0.0</td>\n",
       "      <td>1.0</td>\n",
       "      <td>0.0</td>\n",
       "      <td>0.0</td>\n",
       "      <td>1.0</td>\n",
       "      <td>0.0</td>\n",
       "      <td>0.0</td>\n",
       "      <td>1.0</td>\n",
       "      <td>0.0</td>\n",
       "      <td>0.0</td>\n",
       "      <td>1.0</td>\n",
       "      <td>0.0</td>\n",
       "      <td>0.0</td>\n",
       "      <td>1.0</td>\n",
       "    </tr>\n",
       "    <tr>\n",
       "      <th>2</th>\n",
       "      <td>0.645833</td>\n",
       "      <td>0.230769</td>\n",
       "      <td>0.000000</td>\n",
       "      <td>1.0</td>\n",
       "      <td>0.205882</td>\n",
       "      <td>0.375000</td>\n",
       "      <td>0.0</td>\n",
       "      <td>1.0</td>\n",
       "      <td>1.0</td>\n",
       "      <td>0.0</td>\n",
       "      <td>0.0</td>\n",
       "      <td>0.0</td>\n",
       "      <td>0.0</td>\n",
       "      <td>1.0</td>\n",
       "      <td>0.0</td>\n",
       "      <td>1.0</td>\n",
       "      <td>0.0</td>\n",
       "      <td>0.0</td>\n",
       "      <td>1.0</td>\n",
       "      <td>0.0</td>\n",
       "    </tr>\n",
       "    <tr>\n",
       "      <th>3</th>\n",
       "      <td>0.250000</td>\n",
       "      <td>0.743590</td>\n",
       "      <td>0.958333</td>\n",
       "      <td>0.0</td>\n",
       "      <td>0.470588</td>\n",
       "      <td>0.708333</td>\n",
       "      <td>1.0</td>\n",
       "      <td>0.0</td>\n",
       "      <td>1.0</td>\n",
       "      <td>0.0</td>\n",
       "      <td>0.0</td>\n",
       "      <td>0.0</td>\n",
       "      <td>0.0</td>\n",
       "      <td>1.0</td>\n",
       "      <td>0.0</td>\n",
       "      <td>1.0</td>\n",
       "      <td>0.0</td>\n",
       "      <td>0.0</td>\n",
       "      <td>1.0</td>\n",
       "      <td>0.0</td>\n",
       "    </tr>\n",
       "    <tr>\n",
       "      <th>4</th>\n",
       "      <td>0.354167</td>\n",
       "      <td>0.615385</td>\n",
       "      <td>0.510333</td>\n",
       "      <td>0.0</td>\n",
       "      <td>0.573529</td>\n",
       "      <td>0.375000</td>\n",
       "      <td>0.0</td>\n",
       "      <td>1.0</td>\n",
       "      <td>1.0</td>\n",
       "      <td>0.0</td>\n",
       "      <td>0.0</td>\n",
       "      <td>0.0</td>\n",
       "      <td>0.0</td>\n",
       "      <td>1.0</td>\n",
       "      <td>0.0</td>\n",
       "      <td>1.0</td>\n",
       "      <td>0.0</td>\n",
       "      <td>0.0</td>\n",
       "      <td>0.0</td>\n",
       "      <td>1.0</td>\n",
       "    </tr>\n",
       "  </tbody>\n",
       "</table>\n",
       "</div>"
      ],
      "text/plain": [
       "        Age  RestingBP  Cholesterol  FastingBS     MaxHR   Oldpeak  Sex_F  \\\n",
       "0  0.854167   0.641026     0.473000        1.0  0.338235  0.625000    0.0   \n",
       "1  0.250000   0.179487     0.553000        0.0  0.102941  0.375000    0.0   \n",
       "2  0.645833   0.230769     0.000000        1.0  0.205882  0.375000    0.0   \n",
       "3  0.250000   0.743590     0.958333        0.0  0.470588  0.708333    1.0   \n",
       "4  0.354167   0.615385     0.510333        0.0  0.573529  0.375000    0.0   \n",
       "\n",
       "   Sex_M  ChestPainType_ASY  ChestPainType_ATA  ChestPainType_NAP  \\\n",
       "0    1.0                1.0                0.0                0.0   \n",
       "1    1.0                0.0                0.0                1.0   \n",
       "2    1.0                1.0                0.0                0.0   \n",
       "3    0.0                1.0                0.0                0.0   \n",
       "4    1.0                1.0                0.0                0.0   \n",
       "\n",
       "   ChestPainType_TA  RestingECG_LVH  RestingECG_Normal  RestingECG_ST  \\\n",
       "0               0.0             0.0                0.0            1.0   \n",
       "1               0.0             0.0                1.0            0.0   \n",
       "2               0.0             0.0                1.0            0.0   \n",
       "3               0.0             0.0                1.0            0.0   \n",
       "4               0.0             0.0                1.0            0.0   \n",
       "\n",
       "   ExerciseAngina_N  ExerciseAngina_Y  ST_Slope_Down  ST_Slope_Flat  \\\n",
       "0               0.0               1.0            0.0            1.0   \n",
       "1               0.0               1.0            0.0            0.0   \n",
       "2               1.0               0.0            0.0            1.0   \n",
       "3               1.0               0.0            0.0            1.0   \n",
       "4               1.0               0.0            0.0            0.0   \n",
       "\n",
       "   ST_Slope_Up  \n",
       "0          0.0  \n",
       "1          1.0  \n",
       "2          0.0  \n",
       "3          0.0  \n",
       "4          1.0  "
      ]
     },
     "metadata": {},
     "output_type": "display_data"
    },
    {
     "name": "stdout",
     "output_type": "stream",
     "text": [
      "X test :\n",
      "\n"
     ]
    },
    {
     "data": {
      "text/html": [
       "<div>\n",
       "<style scoped>\n",
       "    .dataframe tbody tr th:only-of-type {\n",
       "        vertical-align: middle;\n",
       "    }\n",
       "\n",
       "    .dataframe tbody tr th {\n",
       "        vertical-align: top;\n",
       "    }\n",
       "\n",
       "    .dataframe thead th {\n",
       "        text-align: right;\n",
       "    }\n",
       "</style>\n",
       "<table border=\"1\" class=\"dataframe\">\n",
       "  <thead>\n",
       "    <tr style=\"text-align: right;\">\n",
       "      <th></th>\n",
       "      <th>Age</th>\n",
       "      <th>RestingBP</th>\n",
       "      <th>Cholesterol</th>\n",
       "      <th>FastingBS</th>\n",
       "      <th>MaxHR</th>\n",
       "      <th>Oldpeak</th>\n",
       "      <th>Sex_F</th>\n",
       "      <th>Sex_M</th>\n",
       "      <th>ChestPainType_ASY</th>\n",
       "      <th>ChestPainType_ATA</th>\n",
       "      <th>ChestPainType_NAP</th>\n",
       "      <th>ChestPainType_TA</th>\n",
       "      <th>RestingECG_LVH</th>\n",
       "      <th>RestingECG_Normal</th>\n",
       "      <th>RestingECG_ST</th>\n",
       "      <th>ExerciseAngina_N</th>\n",
       "      <th>ExerciseAngina_Y</th>\n",
       "      <th>ST_Slope_Down</th>\n",
       "      <th>ST_Slope_Flat</th>\n",
       "      <th>ST_Slope_Up</th>\n",
       "    </tr>\n",
       "  </thead>\n",
       "  <tbody>\n",
       "    <tr>\n",
       "      <th>0</th>\n",
       "      <td>0.586957</td>\n",
       "      <td>0.300</td>\n",
       "      <td>0.761000</td>\n",
       "      <td>0.0</td>\n",
       "      <td>0.573643</td>\n",
       "      <td>1.000000</td>\n",
       "      <td>0.0</td>\n",
       "      <td>1.0</td>\n",
       "      <td>1.0</td>\n",
       "      <td>0.0</td>\n",
       "      <td>0.0</td>\n",
       "      <td>0.0</td>\n",
       "      <td>0.0</td>\n",
       "      <td>0.0</td>\n",
       "      <td>1.0</td>\n",
       "      <td>1.0</td>\n",
       "      <td>0.0</td>\n",
       "      <td>1.0</td>\n",
       "      <td>0.0</td>\n",
       "      <td>0.0</td>\n",
       "    </tr>\n",
       "    <tr>\n",
       "      <th>1</th>\n",
       "      <td>0.543478</td>\n",
       "      <td>0.475</td>\n",
       "      <td>0.507667</td>\n",
       "      <td>0.0</td>\n",
       "      <td>0.410853</td>\n",
       "      <td>0.631579</td>\n",
       "      <td>0.0</td>\n",
       "      <td>1.0</td>\n",
       "      <td>1.0</td>\n",
       "      <td>0.0</td>\n",
       "      <td>0.0</td>\n",
       "      <td>0.0</td>\n",
       "      <td>0.0</td>\n",
       "      <td>0.0</td>\n",
       "      <td>1.0</td>\n",
       "      <td>0.0</td>\n",
       "      <td>1.0</td>\n",
       "      <td>1.0</td>\n",
       "      <td>0.0</td>\n",
       "      <td>0.0</td>\n",
       "    </tr>\n",
       "    <tr>\n",
       "      <th>2</th>\n",
       "      <td>0.434783</td>\n",
       "      <td>0.625</td>\n",
       "      <td>0.707667</td>\n",
       "      <td>0.0</td>\n",
       "      <td>0.434109</td>\n",
       "      <td>1.000000</td>\n",
       "      <td>0.0</td>\n",
       "      <td>1.0</td>\n",
       "      <td>1.0</td>\n",
       "      <td>0.0</td>\n",
       "      <td>0.0</td>\n",
       "      <td>0.0</td>\n",
       "      <td>0.0</td>\n",
       "      <td>1.0</td>\n",
       "      <td>0.0</td>\n",
       "      <td>0.0</td>\n",
       "      <td>1.0</td>\n",
       "      <td>0.0</td>\n",
       "      <td>1.0</td>\n",
       "      <td>0.0</td>\n",
       "    </tr>\n",
       "    <tr>\n",
       "      <th>3</th>\n",
       "      <td>0.478261</td>\n",
       "      <td>1.000</td>\n",
       "      <td>0.673000</td>\n",
       "      <td>0.0</td>\n",
       "      <td>0.418605</td>\n",
       "      <td>0.526316</td>\n",
       "      <td>0.0</td>\n",
       "      <td>1.0</td>\n",
       "      <td>1.0</td>\n",
       "      <td>0.0</td>\n",
       "      <td>0.0</td>\n",
       "      <td>0.0</td>\n",
       "      <td>0.0</td>\n",
       "      <td>0.0</td>\n",
       "      <td>1.0</td>\n",
       "      <td>0.0</td>\n",
       "      <td>1.0</td>\n",
       "      <td>0.0</td>\n",
       "      <td>1.0</td>\n",
       "      <td>0.0</td>\n",
       "    </tr>\n",
       "    <tr>\n",
       "      <th>4</th>\n",
       "      <td>0.695652</td>\n",
       "      <td>1.000</td>\n",
       "      <td>0.000000</td>\n",
       "      <td>0.0</td>\n",
       "      <td>0.248062</td>\n",
       "      <td>0.210526</td>\n",
       "      <td>0.0</td>\n",
       "      <td>1.0</td>\n",
       "      <td>1.0</td>\n",
       "      <td>0.0</td>\n",
       "      <td>0.0</td>\n",
       "      <td>0.0</td>\n",
       "      <td>0.0</td>\n",
       "      <td>1.0</td>\n",
       "      <td>0.0</td>\n",
       "      <td>0.0</td>\n",
       "      <td>1.0</td>\n",
       "      <td>0.0</td>\n",
       "      <td>0.0</td>\n",
       "      <td>1.0</td>\n",
       "    </tr>\n",
       "  </tbody>\n",
       "</table>\n",
       "</div>"
      ],
      "text/plain": [
       "        Age  RestingBP  Cholesterol  FastingBS     MaxHR   Oldpeak  Sex_F  \\\n",
       "0  0.586957      0.300     0.761000        0.0  0.573643  1.000000    0.0   \n",
       "1  0.543478      0.475     0.507667        0.0  0.410853  0.631579    0.0   \n",
       "2  0.434783      0.625     0.707667        0.0  0.434109  1.000000    0.0   \n",
       "3  0.478261      1.000     0.673000        0.0  0.418605  0.526316    0.0   \n",
       "4  0.695652      1.000     0.000000        0.0  0.248062  0.210526    0.0   \n",
       "\n",
       "   Sex_M  ChestPainType_ASY  ChestPainType_ATA  ChestPainType_NAP  \\\n",
       "0    1.0                1.0                0.0                0.0   \n",
       "1    1.0                1.0                0.0                0.0   \n",
       "2    1.0                1.0                0.0                0.0   \n",
       "3    1.0                1.0                0.0                0.0   \n",
       "4    1.0                1.0                0.0                0.0   \n",
       "\n",
       "   ChestPainType_TA  RestingECG_LVH  RestingECG_Normal  RestingECG_ST  \\\n",
       "0               0.0             0.0                0.0            1.0   \n",
       "1               0.0             0.0                0.0            1.0   \n",
       "2               0.0             0.0                1.0            0.0   \n",
       "3               0.0             0.0                0.0            1.0   \n",
       "4               0.0             0.0                1.0            0.0   \n",
       "\n",
       "   ExerciseAngina_N  ExerciseAngina_Y  ST_Slope_Down  ST_Slope_Flat  \\\n",
       "0               1.0               0.0            1.0            0.0   \n",
       "1               0.0               1.0            1.0            0.0   \n",
       "2               0.0               1.0            0.0            1.0   \n",
       "3               0.0               1.0            0.0            1.0   \n",
       "4               0.0               1.0            0.0            0.0   \n",
       "\n",
       "   ST_Slope_Up  \n",
       "0          0.0  \n",
       "1          0.0  \n",
       "2          0.0  \n",
       "3          0.0  \n",
       "4          1.0  "
      ]
     },
     "metadata": {},
     "output_type": "display_data"
    }
   ],
   "source": [
    "X_train = pd.DataFrame(X_train, columns=X.columns)\n",
    "X_test = pd.DataFrame(X_test, columns=X.columns)\n",
    "print(\"X train :\\n\")\n",
    "display(X_train.head())\n",
    "print(\"X test :\\n\")\n",
    "display(X_test.head())"
   ]
  },
  {
   "cell_type": "markdown",
   "metadata": {
    "id": "u7LrcUsRT9f7"
   },
   "source": [
    "### Logistic Regression"
   ]
  },
  {
   "cell_type": "code",
   "execution_count": 106,
   "metadata": {
    "id": "MsaYJQ9cT7gA"
   },
   "outputs": [],
   "source": [
    "from sklearn.linear_model import LogisticRegression\n",
    "log = LogisticRegression()\n",
    "log = log.fit(X_train, y_train)"
   ]
  },
  {
   "cell_type": "markdown",
   "metadata": {
    "id": "PfCMn2tDUM3Z"
   },
   "source": [
    "### Random Forest"
   ]
  },
  {
   "cell_type": "code",
   "execution_count": 107,
   "metadata": {
    "colab": {
     "base_uri": "https://localhost:8080/"
    },
    "id": "LV5dYmfrUMJb",
    "outputId": "4987c6d7-ce5d-4c7b-d32f-c3c16edc4a39"
   },
   "outputs": [
    {
     "data": {
      "text/plain": [
       "RandomForestClassifier(max_depth=5, n_jobs=-1, oob_score=True, random_state=42)"
      ]
     },
     "execution_count": 107,
     "metadata": {},
     "output_type": "execute_result"
    }
   ],
   "source": [
    "from sklearn.ensemble import RandomForestClassifier\n",
    "\n",
    "classifier_rf = RandomForestClassifier(random_state=42, n_jobs=-1, max_depth=5,\n",
    "                                       n_estimators=100, oob_score=True)\n",
    "\n",
    "classifier_rf.fit(X_train, y_train)"
   ]
  },
  {
   "cell_type": "markdown",
   "metadata": {
    "id": "2_ejdF9kXYyn"
   },
   "source": [
    "#### Hyperparameter Tuning"
   ]
  },
  {
   "cell_type": "code",
   "execution_count": 108,
   "metadata": {
    "id": "5vKgL0qxUTWr"
   },
   "outputs": [],
   "source": [
    "# Hyperparameter Tuning\n",
    "rf = RandomForestClassifier(random_state=42, n_jobs=-1)\n",
    "\n",
    "params = {\n",
    "    'max_depth': [2,3,5,10,20],\n",
    "    'min_samples_leaf': [5,10,20,50,100,200],\n",
    "    'n_estimators': [10,25,30,50,100,200]\n",
    "}"
   ]
  },
  {
   "cell_type": "code",
   "execution_count": 109,
   "metadata": {
    "colab": {
     "base_uri": "https://localhost:8080/"
    },
    "id": "dsXoMco5UiyM",
    "outputId": "43ce0ccb-a6f8-4915-fa52-e43303d8d870"
   },
   "outputs": [
    {
     "name": "stdout",
     "output_type": "stream",
     "text": [
      "Fitting 4 folds for each of 180 candidates, totalling 720 fits\n"
     ]
    },
    {
     "data": {
      "text/plain": [
       "GridSearchCV(cv=4, estimator=RandomForestClassifier(n_jobs=-1, random_state=42),\n",
       "             n_jobs=-1,\n",
       "             param_grid={'max_depth': [2, 3, 5, 10, 20],\n",
       "                         'min_samples_leaf': [5, 10, 20, 50, 100, 200],\n",
       "                         'n_estimators': [10, 25, 30, 50, 100, 200]},\n",
       "             scoring='accuracy', verbose=1)"
      ]
     },
     "execution_count": 109,
     "metadata": {},
     "output_type": "execute_result"
    }
   ],
   "source": [
    "from sklearn.model_selection import GridSearchCV\n",
    "\n",
    "# Instantiate the grid search model\n",
    "grid_search = GridSearchCV(estimator=rf,\n",
    "                           param_grid=params,\n",
    "                           cv = 4,\n",
    "                           n_jobs=-1, verbose=1, scoring=\"accuracy\")\n",
    "\n",
    "grid_search.fit(X_train, y_train)"
   ]
  },
  {
   "cell_type": "code",
   "execution_count": 110,
   "metadata": {
    "colab": {
     "base_uri": "https://localhost:8080/"
    },
    "id": "3yblrgETUnXU",
    "outputId": "77653611-9a1f-470a-b52b-508232830a56"
   },
   "outputs": [
    {
     "data": {
      "text/plain": [
       "0.8672246905744209"
      ]
     },
     "execution_count": 110,
     "metadata": {},
     "output_type": "execute_result"
    }
   ],
   "source": [
    "grid_search.best_score_"
   ]
  },
  {
   "cell_type": "code",
   "execution_count": 111,
   "metadata": {
    "colab": {
     "base_uri": "https://localhost:8080/"
    },
    "id": "XRqeeGHgUpNZ",
    "outputId": "e01050f5-c54b-4b98-cf81-259113e68f81"
   },
   "outputs": [
    {
     "data": {
      "text/plain": [
       "RandomForestClassifier(max_depth=10, min_samples_leaf=5, n_estimators=25,\n",
       "                       n_jobs=-1, random_state=42)"
      ]
     },
     "execution_count": 111,
     "metadata": {},
     "output_type": "execute_result"
    }
   ],
   "source": [
    "rf_best = grid_search.best_estimator_\n",
    "rf_best.fit(X_train, y_train)"
   ]
  },
  {
   "cell_type": "markdown",
   "metadata": {
    "id": "ucdQlpm3X6_5"
   },
   "source": [
    "## Save Model into Joblib"
   ]
  },
  {
   "cell_type": "code",
   "execution_count": 112,
   "metadata": {
    "id": "bNAqPMScYAnF"
   },
   "outputs": [
    {
     "data": {
      "text/plain": [
       "['model_rf_hyperparameterturning.pkl']"
      ]
     },
     "execution_count": 112,
     "metadata": {},
     "output_type": "execute_result"
    }
   ],
   "source": [
    "import joblib\n",
    "joblib.dump(log, 'model_log.pkl')\n",
    "joblib.dump(classifier_rf, 'model_rf.pkl')\n",
    "joblib.dump(rf_best, 'model_rf_hyperparameterturning.pkl')"
   ]
  },
  {
   "cell_type": "markdown",
   "metadata": {
    "id": "0qVYSCKFae4r"
   },
   "source": [
    "## Evaluation"
   ]
  },
  {
   "cell_type": "code",
   "execution_count": 113,
   "metadata": {
    "id": "mnIh9jOBUqCS"
   },
   "outputs": [],
   "source": [
    "y_log = log.predict(X_test)\n",
    "y_rf = classifier_rf.predict(X_test)\n",
    "y_rfbest = rf_best.predict(X_test)"
   ]
  },
  {
   "cell_type": "code",
   "execution_count": 114,
   "metadata": {
    "colab": {
     "base_uri": "https://localhost:8080/"
    },
    "id": "zexlAENhamFO",
    "outputId": "15d69281-d971-4f38-baec-37e4d4814fa4"
   },
   "outputs": [
    {
     "name": "stdout",
     "output_type": "stream",
     "text": [
      "Accuracy Logistic Regression: 0.8695652173913043\n",
      "Accuracy Random Forest: 0.8885869565217391\n",
      "Accuracy Random Forest with Hyperparameter Turning: 0.8831521739130435\n"
     ]
    }
   ],
   "source": [
    "from sklearn.metrics import accuracy_score\n",
    "print('Accuracy Logistic Regression:', accuracy_score(y_test, y_log))\n",
    "print('Accuracy Random Forest:', accuracy_score(y_test, y_rf))\n",
    "print('Accuracy Random Forest with Hyperparameter Turning:', accuracy_score(y_test, y_rfbest))"
   ]
  },
  {
   "cell_type": "code",
   "execution_count": 115,
   "metadata": {
    "colab": {
     "base_uri": "https://localhost:8080/"
    },
    "id": "EEArG-yqvAao",
    "outputId": "a017799e-1163-4e00-ed79-3f4dddbaaff2"
   },
   "outputs": [
    {
     "name": "stdout",
     "output_type": "stream",
     "text": [
      "Precision score Logistic Regression : 0.8651244387618566\n",
      "Precision score Random Forest : 0.8862079510703365\n",
      "Precision score Random Forest with Hyperparameter Turning: 0.8805810397553517\n"
     ]
    }
   ],
   "source": [
    "from sklearn.metrics import precision_score\n",
    "print('Precision score Logistic Regression :', precision_score(y_test, y_log, average='macro'))\n",
    "print('Precision score Random Forest :', precision_score(y_test, y_rf, average='macro'))\n",
    "print('Precision score Random Forest with Hyperparameter Turning:', precision_score(y_test, y_rfbest, average='macro'))"
   ]
  },
  {
   "cell_type": "code",
   "execution_count": 116,
   "metadata": {
    "colab": {
     "base_uri": "https://localhost:8080/"
    },
    "id": "qj62egurv94f",
    "outputId": "9d0703cb-9218-4632-d81a-14bd95e411c3"
   },
   "outputs": [
    {
     "name": "stdout",
     "output_type": "stream",
     "text": [
      "Recall score Logistic Regression : 0.8732938136494908\n",
      "Recall score Random Forest  : 0.8839185286517708\n",
      "Recall score Random Forest with Hyperparameter Turning : 0.8783249734002128\n"
     ]
    }
   ],
   "source": [
    "from sklearn.metrics import recall_score\n",
    "print('Recall score Logistic Regression :', recall_score(y_test, y_log, average='macro'))\n",
    "print('Recall score Random Forest  :', recall_score(y_test, y_rf, average='macro'))\n",
    "print('Recall score Random Forest with Hyperparameter Turning :',recall_score(y_test, y_rfbest, average='macro'))"
   ]
  },
  {
   "cell_type": "code",
   "execution_count": 117,
   "metadata": {
    "colab": {
     "base_uri": "https://localhost:8080/"
    },
    "id": "NNoelXD0wGWF",
    "outputId": "a9c01415-f746-4fab-c0f2-c0a05beb9e65"
   },
   "outputs": [
    {
     "name": "stdout",
     "output_type": "stream",
     "text": [
      "Confusion matrix Logistic Regression : [[137  16]\n",
      " [ 32 183]]\n",
      "Confusion matrix Random Forest : [[131  22]\n",
      " [ 19 196]]\n",
      "Confusion matrix Random Forest with Hyperparameter Turning : [[130  23]\n",
      " [ 20 195]]\n"
     ]
    }
   ],
   "source": [
    "from sklearn.metrics import confusion_matrix\n",
    "print('Confusion matrix Logistic Regression :', confusion_matrix(y_test, y_log))\n",
    "print('Confusion matrix Random Forest :', confusion_matrix(y_test, y_rf))\n",
    "print('Confusion matrix Random Forest with Hyperparameter Turning :', confusion_matrix(y_test, y_rfbest))"
   ]
  },
  {
   "cell_type": "code",
   "execution_count": 118,
   "metadata": {
    "colab": {
     "base_uri": "https://localhost:8080/"
    },
    "id": "Cim-o4SDwOZT",
    "outputId": "45ff4a24-f94e-41e9-93c7-fb4563231ab3"
   },
   "outputs": [
    {
     "name": "stdout",
     "output_type": "stream",
     "text": [
      "AUC Logistic Regression: 0.8732938136494909\n",
      "AUC Random Forest: 0.8839185286517708\n",
      "AUC Random Forest with Hyperparameter Turning: 0.8783249734002126\n"
     ]
    }
   ],
   "source": [
    "from sklearn.metrics import roc_curve, auc\n",
    "fpr, tpr, thresholds = roc_curve(y_test, y_log, pos_label=1) # pos_label: positive label\n",
    "print('AUC Logistic Regression:', auc(fpr, tpr))\n",
    "fpr, tpr, thresholds = roc_curve(y_test, y_rf, pos_label=1) # pos_label: positive label\n",
    "print('AUC Random Forest:', auc(fpr, tpr))\n",
    "fpr, tpr, thresholds = roc_curve(y_test, y_rfbest, pos_label=1) # pos_label: positive label\n",
    "print('AUC Random Forest with Hyperparameter Turning:', auc(fpr, tpr))"
   ]
  },
  {
   "cell_type": "code",
   "execution_count": 119,
   "metadata": {
    "colab": {
     "base_uri": "https://localhost:8080/"
    },
    "id": "kPdBOfFrwT_O",
    "outputId": "c1129697-5464-433c-fa23-7d80d5abeb00"
   },
   "outputs": [
    {
     "name": "stdout",
     "output_type": "stream",
     "text": [
      "Logistic Regression:               precision    recall  f1-score   support\n",
      "\n",
      "           0       0.81      0.90      0.85       153\n",
      "           1       0.92      0.85      0.88       215\n",
      "\n",
      "    accuracy                           0.87       368\n",
      "   macro avg       0.87      0.87      0.87       368\n",
      "weighted avg       0.87      0.87      0.87       368\n",
      "\n",
      "Random Forest:               precision    recall  f1-score   support\n",
      "\n",
      "           0       0.87      0.86      0.86       153\n",
      "           1       0.90      0.91      0.91       215\n",
      "\n",
      "    accuracy                           0.89       368\n",
      "   macro avg       0.89      0.88      0.88       368\n",
      "weighted avg       0.89      0.89      0.89       368\n",
      "\n",
      "Random Forest with Hyperparameter Turning::               precision    recall  f1-score   support\n",
      "\n",
      "           0       0.87      0.85      0.86       153\n",
      "           1       0.89      0.91      0.90       215\n",
      "\n",
      "    accuracy                           0.88       368\n",
      "   macro avg       0.88      0.88      0.88       368\n",
      "weighted avg       0.88      0.88      0.88       368\n",
      "\n"
     ]
    }
   ],
   "source": [
    "from sklearn.metrics import classification_report\n",
    "print('Logistic Regression:', classification_report(y_test, y_log))\n",
    "print('Random Forest:', classification_report(y_test, y_rf))\n",
    "print('Random Forest with Hyperparameter Turning::', classification_report(y_test, y_rfbest))"
   ]
  },
  {
   "cell_type": "markdown",
   "metadata": {
    "id": "jwQIis8e9qwP"
   },
   "source": [
    "Kesimpulan : \n",
    "Model terbaik yang dapat digunakan yaitu **Random Forest** karena memiliki akurasi 88%"
   ]
  },
  {
   "cell_type": "code",
   "execution_count": null,
   "metadata": {},
   "outputs": [],
   "source": []
  }
 ],
 "metadata": {
  "accelerator": "TPU",
  "colab": {
   "collapsed_sections": [
    "ViHE0pzVqJov",
    "vYItsJ_zf4BH",
    "2jjDWKvE9WBE",
    "0qVYSCKFae4r"
   ],
   "provenance": [],
   "toc_visible": true
  },
  "gpuClass": "standard",
  "kernelspec": {
   "display_name": "Python 3.9.10 64-bit",
   "language": "python",
   "name": "python3"
  },
  "language_info": {
   "codemirror_mode": {
    "name": "ipython",
    "version": 3
   },
   "file_extension": ".py",
   "mimetype": "text/x-python",
   "name": "python",
   "nbconvert_exporter": "python",
   "pygments_lexer": "ipython3",
   "version": "3.9.10"
  },
  "vscode": {
   "interpreter": {
    "hash": "50c5c2b6e05db9fe8b3433ad8e6dc52eedfaade324407e06c6799762d580ed33"
   }
  }
 },
 "nbformat": 4,
 "nbformat_minor": 4
}
